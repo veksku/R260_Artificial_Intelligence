{
 "cells": [
  {
   "cell_type": "markdown",
   "metadata": {},
   "source": [
    "# Zadatak 1 - Algoritam `A*`"
   ]
  },
  {
   "cell_type": "code",
   "execution_count": 1,
   "metadata": {},
   "outputs": [],
   "source": [
    "from collections import defaultdict\n",
    "\n",
    "class Graph:\n",
    "        \n",
    "    # Funkcija pretvara listu v u tekstualni oblik\n",
    "    # [1,2,3] -> \"1,2,3\"\n",
    "    def serialize(self, v):\n",
    "        return ','.join([str(x) for x in v])\n",
    "    \n",
    "    # Funkcija pretvara v iz tekstualnog oblika u listu\n",
    "    # \"1,2,3\" -> [1,2,3]\n",
    "    def deserialize(self, v):\n",
    "        return [int(x) for x in v.split(',')]\n",
    "        \n",
    "    # Funkcija vraca niz susednih stanja u obliku (w, e)\n",
    "    # gde je w susedno stanje a e duzina grane od cvora v\n",
    "    # do cvora w\n",
    "    def get_neighbors(self, v):\n",
    "        w = self.deserialize(v)\n",
    "        neighbors = []\n",
    "        \n",
    "        # === Studentski kod ===\n",
    "        n = len(w)\n",
    "        for i in range(n):\n",
    "            neighbor = w[:]\n",
    "            neighbor[i] = (neighbor[i] - 1 + 5) % 14 + 1\n",
    "\n",
    "            neighbors.append((self.serialize(neighbor), 1))\n",
    "        return neighbors\n",
    "        # === Studentski kod ===\n",
    "    \n",
    "    # Funkcija heuristicke procene udaljenosti od stanja v\n",
    "    # do ciljnog stanja\n",
    "    def h(self, v):\n",
    "        w = self.deserialize(v)\n",
    "        # === Studentski kod ===\n",
    "        n = len(w)\n",
    "        m = len(set(w))\n",
    "        return n - m\n",
    "        # === Studentski kod ===\n",
    "    \n",
    "    # Funkcija pronalazi put od start stanja do ciljnog stanja\n",
    "    # koriscenjem a* algoritma\n",
    "    def astar(self, start):\n",
    "        open_set = set([self.serialize(start)])\n",
    "        # === Studentski kod ===\n",
    "        \n",
    "        g = defaultdict(lambda: float('inf'))\n",
    "        g[self.serialize(start)] = 0\n",
    "        \n",
    "        parent = {}\n",
    "        parent[self.serialize(start)] = None\n",
    "        \n",
    "        heuristic = defaultdict(lambda: float('inf'))\n",
    "        heuristic[self.serialize(start)] = self.h(self.serialize(start))\n",
    "        \n",
    "        current_state = self.serialize(start)\n",
    "        path_found = False\n",
    "        target_state = None\n",
    "        while len(open_set) > 0:\n",
    "            if self.h(current_state) == 2:\n",
    "                target_state = current_state\n",
    "                path_found = True\n",
    "                break\n",
    "                \n",
    "            open_set.remove(current_state)\n",
    "            for neighbor,_ in self.get_neighbors(current_state):\n",
    "                new_shortest_path = g[current_state] + 1\n",
    "                if new_shortest_path < g[neighbor]:\n",
    "                    g[neighbor] = new_shortest_path\n",
    "                    parent[neighbor] = current_state\n",
    "                    heuristic[neighbor] = new_shortest_path + self.h(neighbor)\n",
    "                    \n",
    "                    if neighbor is not open_set:\n",
    "                        open_set.add(neighbor)\n",
    "            min_d = float('inf')\n",
    "            for state in open_set:\n",
    "                if state in heuristic:\n",
    "                    guess = heuristic[state]\n",
    "                    if guess < min_d:\n",
    "                        min_d = guess\n",
    "                        current_state = state\n",
    "        path = []\n",
    "        if path_found:\n",
    "            while target_state is not None:\n",
    "                path.append(self.deserialize(target_state))\n",
    "                target_state = parent[target_state]\n",
    "            path.reverse()\n",
    "        return path\n",
    "        # === Studentski kod ==="
   ]
  },
  {
   "cell_type": "code",
   "execution_count": 2,
   "metadata": {},
   "outputs": [
    {
     "data": {
      "text/plain": [
       "[[14, 1, 8],\n",
       " [14, 1, 13],\n",
       " [14, 1, 4],\n",
       " [14, 1, 9],\n",
       " [14, 1, 14],\n",
       " [14, 1, 5],\n",
       " [14, 1, 10],\n",
       " [5, 1, 10],\n",
       " [10, 1, 10],\n",
       " [10, 1, 1],\n",
       " [1, 1, 1]]"
      ]
     },
     "execution_count": 2,
     "metadata": {},
     "output_type": "execute_result"
    }
   ],
   "source": [
    "g = Graph()\n",
    "g.astar([14,1,8])"
   ]
  }
 ],
 "metadata": {
  "kernelspec": {
   "display_name": "Python 3",
   "language": "python",
   "name": "python3"
  },
  "language_info": {
   "codemirror_mode": {
    "name": "ipython",
    "version": 3
   },
   "file_extension": ".py",
   "mimetype": "text/x-python",
   "name": "python",
   "nbconvert_exporter": "python",
   "pygments_lexer": "ipython3",
   "version": "3.8.10"
  }
 },
 "nbformat": 4,
 "nbformat_minor": 2
}
