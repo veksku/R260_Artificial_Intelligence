{
 "cells": [
  {
   "cell_type": "code",
   "execution_count": 1,
   "id": "829c25ec",
   "metadata": {},
   "outputs": [],
   "source": [
    "from z3 import *"
   ]
  },
  {
   "cell_type": "code",
   "execution_count": 2,
   "id": "12367e5a",
   "metadata": {},
   "outputs": [
    {
     "name": "stdout",
     "output_type": "stream",
     "text": [
      "[A = False, D = False, B = True, C = True]\n",
      "[A = True, D = True, B = False, C = False]\n"
     ]
    }
   ],
   "source": [
    "# U iskaznoj logici zapisati uslov da je 4-bitna reprezentacija broja\n",
    "# palindrom, ali da nisu svi bitovi isti.\n",
    "\n",
    "A,B,C,D = Bools('A B C D')\n",
    "\n",
    "s = Solver()\n",
    "s.add(A == D, B == C, Not(And(A == B, B == C, C == D)))\n",
    "\n",
    "while s.check() == sat:\n",
    "    print(s.model())\n",
    "    # Ispis svih modela. U ogranicenje dodamo negaciju prethodnog resenja.\n",
    "    # s.model()[A] -> vrednost promenljive A u poslednjem modelu koji zadovoljava ogranicenja\n",
    "    s.add(Not(And(A == s.model()[A], B == s.model()[B], C == s.model()[C], D == s.model()[D])))"
   ]
  },
  {
   "cell_type": "code",
   "execution_count": 3,
   "id": "f26b1757",
   "metadata": {},
   "outputs": [
    {
     "name": "stdout",
     "output_type": "stream",
     "text": [
      "[z = 7/4, y = 7/4, x = 1/2]\n"
     ]
    }
   ],
   "source": [
    "x, y, z = Reals('x y z')\n",
    "\n",
    "s = Solver()\n",
    "s.add(\n",
    "    x + 5*y - 3*z == 4, # 1/2 +  7/2 = 8/2 = 4\n",
    "    -x + y + z == 3,\n",
    "    2*x + y - z == 1\n",
    ")\n",
    "\n",
    "if s.check() == sat:\n",
    "    print(s.model())"
   ]
  },
  {
   "cell_type": "code",
   "execution_count": 4,
   "id": "e5fb4f6b",
   "metadata": {},
   "outputs": [
    {
     "name": "stdout",
     "output_type": "stream",
     "text": [
      "[a = False, f = [else -> 0], g = [else -> True]]\n"
     ]
    }
   ],
   "source": [
    "# Bool, Real, Int, BitVec, Array, Index, String...\n",
    "# Function\n",
    "\n",
    "# Sort == Domen\n",
    "B = BoolSort()\n",
    "Z = IntSort()\n",
    "# f: B -> Z\n",
    "f = Function('f', B, Z)\n",
    "# g: Z -> B\n",
    "g = Function('g', Z, B)\n",
    "a = Bool('a')\n",
    "solve(g(1 + f(a)))"
   ]
  },
  {
   "cell_type": "code",
   "execution_count": 5,
   "id": "09419e7f",
   "metadata": {},
   "outputs": [
    {
     "name": "stdout",
     "output_type": "stream",
     "text": [
      "[x = 0, y = 1]\n"
     ]
    }
   ],
   "source": [
    "x, y = Ints('x y')\n",
    "# Za svako y, ako je y <= 0, onda je x < y.  i y == x + 1.\n",
    "solve([y == x + 1, ForAll([y], Implies(y <= 0, Exists([x], x < y)))])"
   ]
  },
  {
   "cell_type": "code",
   "execution_count": 6,
   "id": "b173f008",
   "metadata": {},
   "outputs": [
    {
     "name": "stdout",
     "output_type": "stream",
     "text": [
      "sat\n"
     ]
    }
   ],
   "source": [
    "# Dve nemimoilazne prave se seku ili su paralelne.\n",
    "# Prave koje se seku leže u istoj ravni.\n",
    "# Prave koje su paralelene leže u istoj ravni.\n",
    "# Dve nemimoilazne prave leže u istoj ravni.\n",
    "\n",
    "# m(X,Y) - X i Y su nemimoilazne: m: PxP -> B\n",
    "# s(X,Y) - X i Y se seku: s: PxP -> B\n",
    "# p(X,Y) - X i Y su paralelne: p: PxP -> B\n",
    "# r(X,Y) - X i Y leze u istoj ravni: r: PxP -> B\n",
    "\n",
    "B = BoolSort()\n",
    "P = DeclareSort('Prave')\n",
    "m = Function('m', P, P, B)\n",
    "s = Function('s', P, P, B)\n",
    "p = Function('p', P, P, B)\n",
    "r = Function('r', P, P, B)\n",
    "\n",
    "x, y = Consts('x y', P)\n",
    "\n",
    "solver = Solver()\n",
    "axioms = [\n",
    "    ForAll([x,y], Implies(m(x,y), Or(s(x,y), p(x,y)))),\n",
    "    ForAll([x,y], Implies(s(x,y), r(x,y))),\n",
    "    ForAll([x,y], Implies(p(x,y), r(x,y)))\n",
    "]\n",
    "conjecture = ForAll([x,y], Implies(m(x,y), r(x,y)))\n",
    "\n",
    "solver.add(conjecture)\n",
    "\n",
    "print(solver.check(axioms))"
   ]
  },
  {
   "cell_type": "code",
   "execution_count": 7,
   "id": "95c75171",
   "metadata": {},
   "outputs": [
    {
     "data": {
      "text/html": [
       "<b>unsat</b>"
      ],
      "text/plain": [
       "unsat"
      ]
     },
     "execution_count": 7,
     "metadata": {},
     "output_type": "execute_result"
    }
   ],
   "source": [
    "# Svaka dva brata imaju zajedničkog roditelja.\n",
    "# Roditelj je stariji od deteta.\n",
    "# Postoje braća.\n",
    "# Ni jedna osoba nije starija od druge.\n",
    "\n",
    "# b: OxO -> B\n",
    "\n",
    "B = BoolSort()\n",
    "O = DeclareSort('Osoba')\n",
    "\n",
    "b = Function('braca', O, O, B)\n",
    "r = Function('roditelj', O, O, B)\n",
    "s = Function('stariji', O, O, B)\n",
    "\n",
    "x,y,z = Consts('x y z', O)\n",
    "\n",
    "solver = Solver()\n",
    "axioms = [\n",
    "    ForAll([x,y], Exists([z], Implies(b(x,y), And(r(z,x), r(z,y))))),\n",
    "    ForAll([x,y], Implies(r(x,y), s(x,y))),\n",
    "    Exists([x,y], b(x,y))\n",
    "]\n",
    "conjecture = ForAll([x,y], Not(s(x,y)))\n",
    "\n",
    "solver.add(conjecture)\n",
    "solver.check(axioms)"
   ]
  },
  {
   "cell_type": "code",
   "execution_count": 95,
   "id": "dcdf50df",
   "metadata": {
    "scrolled": true
   },
   "outputs": [
    {
     "name": "stdout",
     "output_type": "stream",
     "text": [
      "[Q_1 = 3,\n",
      " Q_0 = 5,\n",
      " Q_5 = 6,\n",
      " Q_6 = 0,\n",
      " Q_3 = 7,\n",
      " Q_2 = 1,\n",
      " Q_4 = 4,\n",
      " Q_7 = 2]\n"
     ]
    }
   ],
   "source": [
    "#Bool p_i_j - Na polju (i,j) se nalazi dama\n",
    "#Int Q_{i} -> Broj kolone u kojoj se nalazi dama u i-tom redu\n",
    "# Q_4 = 3 -> U cetvrtom redu, dama se nalazi na trecoj koloni\n",
    "\n",
    "# Q_3 = 2, Q_4 = 2\n",
    "\n",
    "n = 8\n",
    "Q = [Int(f'Q_{i}') for i in range(n)]\n",
    "\n",
    "val_c = [And(0 <= q, q < n) for q in Q]\n",
    "col_c = [Distinct(Q)]\n",
    "diag_c = [\n",
    "    And(Q[i] - Q[j] != i - j, Q[i] - Q[j] != j - i) \n",
    "    for i in range(n) for j in range(i) if i != j\n",
    "]\n",
    "setup_c = [If(i == 7, Q[7] == 2, True) for i in range(n)]\n",
    "\n",
    "n_queens = val_c + col_c + diag_c + setup_c\n",
    "\n",
    "solve(n_queens)"
   ]
  },
  {
   "cell_type": "code",
   "execution_count": 91,
   "id": "fcbb6813",
   "metadata": {},
   "outputs": [
    {
     "name": "stdout",
     "output_type": "stream",
     "text": [
      "[[7, 1, 5, 8, 9, 4, 6, 3, 2],\n",
      " [2, 3, 4, 5, 1, 6, 8, 9, 7],\n",
      " [6, 8, 9, 7, 2, 3, 1, 4, 5],\n",
      " [4, 9, 3, 6, 5, 7, 2, 1, 8],\n",
      " [8, 6, 7, 2, 3, 1, 9, 5, 4],\n",
      " [1, 5, 2, 4, 8, 9, 7, 6, 3],\n",
      " [3, 7, 6, 1, 4, 8, 5, 2, 9],\n",
      " [9, 2, 8, 3, 6, 5, 4, 7, 1],\n",
      " [5, 4, 1, 9, 7, 2, 3, 8, 6]]\n"
     ]
    }
   ],
   "source": [
    "X = [ [ Int(\"x_%s_%s\" % (i+1, j+1)) for j in range(9) ] \n",
    "      for i in range(9) ]\n",
    "\n",
    "\n",
    "cells_c  = [ And(1 <= X[i][j], X[i][j] <= 9) \n",
    "             for i in range(9) for j in range(9) ]\n",
    "\n",
    "\n",
    "rows_c   = [ Distinct(X[i]) for i in range(9) ]\n",
    "\n",
    "\n",
    "cols_c   = [ Distinct([ X[i][j] for i in range(9) ]) \n",
    "             for j in range(9) ]\n",
    "\n",
    "sq_c     = [ Distinct([ X[3*i0 + i][3*j0 + j] \n",
    "                        for i in range(3) for j in range(3) ]) \n",
    "             for i0 in range(3) for j0 in range(3) ]\n",
    "\n",
    "sudoku_c = cells_c + rows_c + cols_c + sq_c\n",
    "\n",
    "instance = ((0,0,0,0,9,4,0,3,0),\n",
    "            (0,0,0,5,1,0,0,0,7),\n",
    "            (0,8,9,0,0,0,0,4,0),\n",
    "            (0,0,0,0,0,0,2,0,8),\n",
    "            (0,6,0,2,0,1,0,5,0),\n",
    "            (1,0,2,0,0,0,0,0,0),\n",
    "            (0,7,0,0,0,0,5,2,0),\n",
    "            (9,0,0,0,6,5,0,0,0),\n",
    "            (0,4,0,9,7,0,0,0,0))\n",
    "\n",
    "instance_c = [ If(instance[i][j] != 0, \n",
    "                  X[i][j] == instance[i][j], \n",
    "                  True) \n",
    "               for i in range(9) for j in range(9) ]\n",
    "\n",
    "s = Solver()\n",
    "s.add(sudoku_c + instance_c)\n",
    "if s.check() == sat:\n",
    "    m = s.model()\n",
    "    r = [ [ m.evaluate(X[i][j]) for j in range(9) ] \n",
    "          for i in range(9) ]\n",
    "    print_matrix(r)\n",
    "else:\n",
    "    print(\"failed to solve\")"
   ]
  },
  {
   "cell_type": "code",
   "execution_count": null,
   "id": "a81762ac",
   "metadata": {},
   "outputs": [],
   "source": []
  }
 ],
 "metadata": {
  "kernelspec": {
   "display_name": "Python 3",
   "language": "python",
   "name": "python3"
  },
  "language_info": {
   "codemirror_mode": {
    "name": "ipython",
    "version": 3
   },
   "file_extension": ".py",
   "mimetype": "text/x-python",
   "name": "python",
   "nbconvert_exporter": "python",
   "pygments_lexer": "ipython3",
   "version": "3.8.10"
  }
 },
 "nbformat": 4,
 "nbformat_minor": 5
}
