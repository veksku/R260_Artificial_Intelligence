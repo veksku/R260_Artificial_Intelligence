{
 "cells": [
  {
   "cell_type": "code",
   "execution_count": 1,
   "metadata": {},
   "outputs": [],
   "source": [
    "mapa = [[5, 20, 100, 30, 20, 14, 1, 2, 7, 1],\n",
    "        [1, 33, 14, 15, 16, 200, 33, 99, 5, 2],\n",
    "        [3, 4, 8, 9, 30, 300, 33, 44, 11, 555],\n",
    "        [8, 10, 12, 14, 33, 9, 8, 1, 1, 1],\n",
    "        [60, 3, 1, 1, 1, 1, 1, 1, 1, 1],\n",
    "        [30, 40, 50, 70, 10, 1, 2, 3, 7, 6],\n",
    "        [4, 5, 1, 80, 90, 1, 1, 10, 11, 12],\n",
    "        [33, 44, 10, 10, 1, 3, 8, 6, 7, 1],\n",
    "        [5, 5, 6, 1, 1, 4, 8, 10, 11, 5],\n",
    "        [1, 80, 3, 3, 3, 3, 12, 200, 33, 4]]"
   ]
  },
  {
   "cell_type": "code",
   "execution_count": 2,
   "metadata": {},
   "outputs": [],
   "source": [
    "from collections import deque, defaultdict\n",
    "import copy\n",
    "\n",
    "class Graph:\n",
    "    def __init__(self, mapa):\n",
    "        self.mapa = mapa\n",
    "        \n",
    "    def valid(self, i, j):\n",
    "        if i >= 0 and j >= 0 and i < 10 and j < 10:\n",
    "            return True\n",
    "        else:\n",
    "            return False        \n",
    "        \n",
    "    def get_neighbors(self, i, j):\n",
    "        susedi = [];\n",
    "        \n",
    "        indeksi = [(-2, -1), (-2, 1), (-1, -2), (-1, 2), (1, -2), (1, 2), (2, -1), (2, 1)]\n",
    "        for indeks in indeksi:\n",
    "            if self.valid(i+indeks[0], j+indeks[1]):\n",
    "                susedi.append((i+indeks[0], j+indeks[1]))\n",
    "            \n",
    "        return susedi\n",
    "    \n",
    "    # Heuristika\n",
    "    def h(self, i, j):\n",
    "        \n",
    "        #----------------------------------------------------\n",
    "        return ((9 - i) + (9 - j))\n",
    "        #----------------------------------------------------\n",
    "\n",
    "    # Pronalazenje najkraceg puta pomocu algoritma A*\n",
    "    def astar(self):\n",
    "\n",
    "        # Zatvorena lista je inicijalno prazna, a otvorena lista sadrzi samo polazni cvor \n",
    "        # Kako figura krece sa pozicije 0,0 polazni cvor je (0, 0)\n",
    "        open_set = set([(0,0)])\n",
    "\n",
    "        # g sadrzi tekuce udaljenosti od polaznog cvora (start) do ostalih cvorova, ukoliko se cvor ne nalazi\n",
    "        # u mapi, podrazumevana vrednost udaljenosti je beskonacno\n",
    "        g = defaultdict(lambda: float('inf'))\n",
    "        \n",
    "        # Mapa parents cuva roditelje cvorova\n",
    "        parents = {}\n",
    "\n",
    "        \n",
    "        #----------------------------------------------------\n",
    "        g[(0,0)] = 0\n",
    "        parents[(0,0)] = None\n",
    "        heuristic = defaultdict(lambda: float('inf'))\n",
    "        heuristic[(0,0)] = self.h(0,0)\n",
    "        \n",
    "        path_found = False\n",
    "        \n",
    "        current_node = (0,0)\n",
    "        while len(open_set) > 0:\n",
    "            if current_node == (9,9):\n",
    "                path_found = True\n",
    "                break\n",
    "            \n",
    "            open_set.remove(current_node)\n",
    "            for neighbour in self.get_neighbors(current_node[0], current_node[1]):\n",
    "                new_cheapest_path = g[current_node] + mapa[neighbour[0]][neighbour[1]]\n",
    "                \n",
    "                if new_cheapest_path < g[neighbour]:\n",
    "                    g[neighbour] = new_cheapest_path\n",
    "                    parents[neighbour] = current_node\n",
    "                    heuristic[neighbour] = new_cheapest_path + self.h(neighbour[0],neighbour[1])\n",
    "                    \n",
    "                    if neighbour is not open_set:\n",
    "                        open_set.add(neighbour)\n",
    "            min_d = float('inf')\n",
    "            for node in open_set:\n",
    "                if node in heuristic:\n",
    "                    guess = heuristic[node]\n",
    "                    if guess < min_d:\n",
    "                        min_d = guess\n",
    "                        current_node = node\n",
    "                        \n",
    "        path = []\n",
    "        if path_found:\n",
    "            target_node = (9,9)\n",
    "            suma = 0\n",
    "            while parents[target_node] is not None:\n",
    "                path.append(target_node)\n",
    "                target_node = parents[target_node]\n",
    "                suma += mapa[target_node[0]][target_node[1]]\n",
    "            path.reverse()\n",
    "            print('Zbir: ', suma)\n",
    "        return path\n",
    "        #----------------------------------------------------"
   ]
  },
  {
   "cell_type": "code",
   "execution_count": 3,
   "metadata": {},
   "outputs": [
    {
     "name": "stdout",
     "output_type": "stream",
     "text": [
      "Zbir:  28\n"
     ]
    },
    {
     "data": {
      "text/plain": [
       "[(2, 1), (4, 2), (5, 4), (6, 6), (7, 8), (9, 9)]"
      ]
     },
     "execution_count": 3,
     "metadata": {},
     "output_type": "execute_result"
    }
   ],
   "source": [
    "g = Graph(mapa)\n",
    "g.astar()"
   ]
  }
 ],
 "metadata": {
  "kernelspec": {
   "display_name": "Python 3",
   "language": "python",
   "name": "python3"
  },
  "language_info": {
   "codemirror_mode": {
    "name": "ipython",
    "version": 3
   },
   "file_extension": ".py",
   "mimetype": "text/x-python",
   "name": "python",
   "nbconvert_exporter": "python",
   "pygments_lexer": "ipython3",
   "version": "3.8.10"
  }
 },
 "nbformat": 4,
 "nbformat_minor": 4
}
