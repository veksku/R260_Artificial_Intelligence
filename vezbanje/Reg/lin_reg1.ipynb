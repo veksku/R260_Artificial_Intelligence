{
  "cells": [
    {
      "cell_type": "markdown",
      "metadata": {
        "id": "kzbB0JYQH6SI"
      },
      "source": [
        "# Zadatak 4 - linearna regresija"
      ]
    },
    {
      "cell_type": "code",
      "execution_count": 1,
      "metadata": {
        "id": "NYGAlDz-H6SM"
      },
      "outputs": [],
      "source": [
        "import numpy as np\n",
        "from matplotlib import pyplot as plt \n",
        "from sklearn import linear_model\n",
        "from sklearn import model_selection\n",
        "from sklearn import metrics"
      ]
    },
    {
      "cell_type": "code",
      "execution_count": 2,
      "metadata": {
        "id": "HPJ4HqM0H6SO"
      },
      "outputs": [],
      "source": [
        "# velicina skupa podataka\n",
        "N = 100"
      ]
    },
    {
      "cell_type": "code",
      "execution_count": 3,
      "metadata": {
        "id": "E6gZvcc7H6SO"
      },
      "outputs": [],
      "source": [
        "# vrednosti ulaza\n",
        "x = np.linspace(1, 5, N).reshape(N, 1)"
      ]
    },
    {
      "cell_type": "code",
      "execution_count": 4,
      "metadata": {
        "id": "s99H2-YaH6SP"
      },
      "outputs": [],
      "source": [
        "# vrednosti ciljne funkcije\n",
        "y = 4*x + 1.5*2* np.random.randn(N, 1)"
      ]
    },
    {
      "cell_type": "markdown",
      "metadata": {
        "id": "44TUbavPH6SP"
      },
      "source": [
        "Vizualizujte podatke. Na `x` osi označite atribut $x$, a na `y` osi $f(x)$."
      ]
    },
    {
      "cell_type": "code",
      "execution_count": 5,
      "metadata": {
        "colab": {
          "base_uri": "https://localhost:8080/",
          "height": 279
        },
        "id": "nBMCNh60H6SQ",
        "outputId": "d9780ac3-f805-403f-a4c6-09dee9531b31"
      },
      "outputs": [
        {
          "output_type": "display_data",
          "data": {
            "text/plain": [
              "<Figure size 432x288 with 1 Axes>"
            ],
            "image/png": "[encoded data removed]"
          },
          "metadata": {
            "needs_background": "light"
          }
        }
      ],
      "source": [
        "plt.plot(x, y, 'o')\n",
        "plt.xlabel('x')\n",
        "plt.ylabel('f(x)')\n",
        "plt.show()"
      ]
    },
    {
      "cell_type": "markdown",
      "metadata": {
        "id": "DPMgLwFjH6SR"
      },
      "source": [
        "Izvršiti podelu podataka na podatke za obučavanje i testiranje u razmeri 3:1."
      ]
    },
    {
      "cell_type": "code",
      "execution_count": 6,
      "metadata": {
        "id": "_89nQGHVH6SR"
      },
      "outputs": [],
      "source": [
        "x_train, x_test, y_train, y_test = model_selection.train_test_split(x, y, train_size = 0.75, random_state=7)"
      ]
    },
    {
      "cell_type": "markdown",
      "metadata": {
        "id": "6Vu2fFxhH6SS"
      },
      "source": [
        "Koristeći modul `linear_model` napraviti model linearne regresije i obučiti ga na skupu podataka za obučavanje."
      ]
    },
    {
      "cell_type": "code",
      "execution_count": 7,
      "metadata": {
        "id": "-Wuk7zPXH6SS"
      },
      "outputs": [],
      "source": [
        "model = linear_model.LinearRegression()"
      ]
    },
    {
      "cell_type": "code",
      "execution_count": 8,
      "metadata": {
        "id": "5haqDNtIH6SS",
        "colab": {
          "base_uri": "https://localhost:8080/"
        },
        "outputId": "7cf17833-29b5-4495-9c92-90d5d3f1b0c1"
      },
      "outputs": [
        {
          "output_type": "execute_result",
          "data": {
            "text/plain": [
              "LinearRegression()"
            ]
          },
          "metadata": {},
          "execution_count": 8
        }
      ],
      "source": [
        "model.fit(x_train, y_train)"
      ]
    },
    {
      "cell_type": "markdown",
      "metadata": {
        "id": "CFkiX10bH6ST"
      },
      "source": [
        "Na standardni izlaz ispisati dobijene koeficijente modela (prikazati i slobodni član - eng. intercept)."
      ]
    },
    {
      "cell_type": "code",
      "execution_count": 9,
      "metadata": {
        "colab": {
          "base_uri": "https://localhost:8080/"
        },
        "id": "nPQ_DagyH6ST",
        "outputId": "e4018e7e-37b6-4bfb-d0c1-a8aae8787c1d"
      },
      "outputs": [
        {
          "output_type": "stream",
          "name": "stdout",
          "text": [
            "f_w(x) = -0.4055827691270881 + 4.106337942847928*x\n"
          ]
        }
      ],
      "source": [
        "print(f'f_w(x) = {model.intercept_[0]} + {model.coef_[0][0]}*x')"
      ]
    },
    {
      "cell_type": "markdown",
      "metadata": {
        "id": "IK5g_DL1H6ST"
      },
      "source": [
        "Ponovo nacrtati podatke i na istoj slici nacrtati pravu dobijenu linearnom regresijom. Ose označiti isto kao u prethodnoj slici i dodati legendu koja prikazuje šta označava koja crtež na slici (koristiti oznake `Pravi podaci` i `Dobijeni model`)."
      ]
    },
    {
      "cell_type": "code",
      "execution_count": 10,
      "metadata": {
        "colab": {
          "base_uri": "https://localhost:8080/",
          "height": 279
        },
        "id": "mJz-9ND5H6ST",
        "outputId": "11aa4f26-3827-4b45-8479-c95077561a39"
      },
      "outputs": [
        {
          "output_type": "display_data",
          "data": {
            "text/plain": [
              "<Figure size 432x288 with 1 Axes>"
            ],
            "image/png": "[encoded data removed]"
          },
          "metadata": {
            "needs_background": "light"
          }
        }
      ],
      "source": [
        "plt.plot(x, y, 'o')\n",
        "plt.plot(x, model.predict(x))\n",
        "plt.xlabel('x')\n",
        "plt.ylabel('f(x)')\n",
        "plt.legend(['Pravi podaci', 'Dobijeni model'])\n",
        "plt.show()"
      ]
    },
    {
      "cell_type": "markdown",
      "metadata": {
        "id": "CiMLpFm2H6SU"
      },
      "source": [
        "Izračunati mere $R^2$ i srednje-kvadratnu grešku na podacima za obučavanje i testiranje."
      ]
    },
    {
      "cell_type": "code",
      "execution_count": 11,
      "metadata": {
        "id": "Vumphe7gH6SU"
      },
      "outputs": [],
      "source": [
        "y_train_pred = model.predict(x_train)\n",
        "y_test_pred = model.predict(x_test)"
      ]
    },
    {
      "cell_type": "code",
      "execution_count": 12,
      "metadata": {
        "id": "D0mXwreHH6SU"
      },
      "outputs": [],
      "source": [
        "mse_test = metrics.mean_squared_error(y_test, y_test_pred)\n",
        "mse_train = metrics.mean_squared_error(y_train, y_train_pred)"
      ]
    },
    {
      "cell_type": "code",
      "execution_count": 13,
      "metadata": {
        "colab": {
          "base_uri": "https://localhost:8080/"
        },
        "id": "vLsz8VxrH6SU",
        "outputId": "dfc02e06-e838-4757-9e42-96f080984198"
      },
      "outputs": [
        {
          "output_type": "execute_result",
          "data": {
            "text/plain": [
              "8.520574906488276"
            ]
          },
          "metadata": {},
          "execution_count": 13
        }
      ],
      "source": [
        "mse_test"
      ]
    },
    {
      "cell_type": "code",
      "execution_count": 14,
      "metadata": {
        "colab": {
          "base_uri": "https://localhost:8080/"
        },
        "id": "z05_21gEH6SV",
        "outputId": "6dc90243-9e86-446d-bfae-0bf699b1d807"
      },
      "outputs": [
        {
          "output_type": "execute_result",
          "data": {
            "text/plain": [
              "7.530205750892381"
            ]
          },
          "metadata": {},
          "execution_count": 14
        }
      ],
      "source": [
        "mse_train"
      ]
    },
    {
      "cell_type": "code",
      "execution_count": 15,
      "metadata": {
        "id": "NmBlMv27H6SV"
      },
      "outputs": [],
      "source": [
        "r2_train = metrics.r2_score(y_train, y_train_pred)\n",
        "r2_test = metrics.r2_score(y_test, y_test_pred)"
      ]
    },
    {
      "cell_type": "code",
      "execution_count": 16,
      "metadata": {
        "colab": {
          "base_uri": "https://localhost:8080/"
        },
        "id": "G3VO-CKwH6SV",
        "outputId": "3295e5d4-58ba-4e6a-de86-3c45d0df3e99"
      },
      "outputs": [
        {
          "output_type": "execute_result",
          "data": {
            "text/plain": [
              "0.7441008894926389"
            ]
          },
          "metadata": {},
          "execution_count": 16
        }
      ],
      "source": [
        "r2_train"
      ]
    },
    {
      "cell_type": "code",
      "execution_count": 17,
      "metadata": {
        "colab": {
          "base_uri": "https://localhost:8080/"
        },
        "id": "lsFLJLoeH6SV",
        "outputId": "c0c06ee7-ce3a-4cb0-8424-5ba25e5a43bc"
      },
      "outputs": [
        {
          "output_type": "execute_result",
          "data": {
            "text/plain": [
              "0.7446260469211131"
            ]
          },
          "metadata": {},
          "execution_count": 17
        }
      ],
      "source": [
        "r2_test"
      ]
    }
  ],
  "metadata": {
    "kernelspec": {
      "display_name": "Python 3",
      "language": "python",
      "name": "python3"
    },
    "language_info": {
      "codemirror_mode": {
        "name": "ipython",
        "version": 3
      },
      "file_extension": ".py",
      "mimetype": "text/x-python",
      "name": "python",
      "nbconvert_exporter": "python",
      "pygments_lexer": "ipython3",
      "version": "3.7.3"
    },
    "colab": {
      "name": "lin_reg1.ipynb",
      "provenance": []
    }
  },
  "nbformat": 4,
  "nbformat_minor": 0
}