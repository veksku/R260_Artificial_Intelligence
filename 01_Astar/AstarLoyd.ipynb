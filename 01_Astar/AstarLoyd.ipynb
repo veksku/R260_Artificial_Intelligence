{
 "cells": [
  {
   "cell_type": "code",
   "execution_count": 1,
   "id": "09bd6b63",
   "metadata": {},
   "outputs": [],
   "source": [
    "import copy, math\n",
    "from collections import defaultdict"
   ]
  },
  {
   "cell_type": "code",
   "execution_count": 2,
   "id": "8d02c570",
   "metadata": {},
   "outputs": [],
   "source": [
    "def get_next_node(open_set, heuristic_guess):\n",
    "    v = None\n",
    "    min_d = float('inf')\n",
    "    for node in open_set:\n",
    "        if node in heuristic_guess:\n",
    "            guess = heuristic_guess[node]\n",
    "            if guess < min_d:\n",
    "                min_d = guess\n",
    "                v = node\n",
    "    return v"
   ]
  },
  {
   "cell_type": "code",
   "execution_count": 3,
   "id": "55f940fe",
   "metadata": {},
   "outputs": [],
   "source": [
    "start = [\n",
    "    [4,1,3],\n",
    "    [0,2,5],\n",
    "    [7,8,6]\n",
    "]\n",
    "# '4:1:3:0:2:5:7:8:6'\n",
    "target = [\n",
    "    [1,2,3],\n",
    "    [4,5,6],\n",
    "    [7,8,0]\n",
    "]"
   ]
  },
  {
   "cell_type": "code",
   "execution_count": 4,
   "id": "c8bf694b",
   "metadata": {},
   "outputs": [
    {
     "data": {
      "text/plain": [
       "'4:1:3:0:2:5:7:8:6'"
      ]
     },
     "execution_count": 4,
     "metadata": {},
     "output_type": "execute_result"
    }
   ],
   "source": [
    "def serialize(matrix):\n",
    "    result = []\n",
    "    for row in matrix:\n",
    "        for col in row:\n",
    "            result.append(str(col)) # [4,1,3,0,2,5,7,8,6]\n",
    "    return ':'.join(result)\n",
    "serialize(start)"
   ]
  },
  {
   "cell_type": "code",
   "execution_count": 5,
   "id": "7c14b9cf",
   "metadata": {},
   "outputs": [
    {
     "data": {
      "text/plain": [
       "[[4, 1, 3], [0, 2, 5], [7, 8, 6]]"
      ]
     },
     "execution_count": 5,
     "metadata": {},
     "output_type": "execute_result"
    }
   ],
   "source": [
    "def deserialize(state):\n",
    "    splited = state.split(':') # ['4', '1', '3', '0'...]\n",
    "    splited = [int(x) for x in splited]\n",
    "    return [splited[:3], splited[3:6], splited[6:]]\n",
    "\n",
    "serialized = serialize(start)\n",
    "deserialize(serialized)"
   ]
  },
  {
   "cell_type": "code",
   "execution_count": 6,
   "id": "0a129535",
   "metadata": {},
   "outputs": [],
   "source": [
    "def get_neighbours(state):\n",
    "    matrix = deserialize(state)\n",
    "    blank_i, blank_j = -1, -1\n",
    "    \n",
    "    n = len(matrix)\n",
    "    for i in range(n):\n",
    "        for j in range(n):\n",
    "            if matrix[i][j] == 0:\n",
    "                blank_i, blank_j = i, j\n",
    "                break\n",
    "    \n",
    "    neighbours = []\n",
    "    if blank_i > 0:\n",
    "        new_matrix = copy.deepcopy(matrix)\n",
    "        new_matrix[blank_i][blank_j] = new_matrix[blank_i - 1][blank_j]\n",
    "        new_matrix[blank_i - 1][blank_j] = 0\n",
    "        neighbours.append(serialize(new_matrix))\n",
    "    \n",
    "    if blank_i < (n-1):\n",
    "        new_matrix = copy.deepcopy(matrix)\n",
    "        new_matrix[blank_i][blank_j] = new_matrix[blank_i + 1][blank_j]\n",
    "        new_matrix[blank_i + 1][blank_j] = 0\n",
    "        neighbours.append(serialize(new_matrix))\n",
    "    \n",
    "    if blank_j > 0:\n",
    "        new_matrix = copy.deepcopy(matrix)\n",
    "        new_matrix[blank_i][blank_j] = new_matrix[blank_i][blank_j - 1]\n",
    "        new_matrix[blank_i][blank_j - 1] = 0\n",
    "        neighbours.append(serialize(new_matrix))\n",
    "    \n",
    "    if blank_j < (n-1):\n",
    "        new_matrix = copy.deepcopy(matrix)\n",
    "        new_matrix[blank_i][blank_j] = new_matrix[blank_i][blank_j + 1]\n",
    "        new_matrix[blank_i][blank_j + 1] = 0\n",
    "        neighbours.append(serialize(new_matrix))\n",
    "    \n",
    "    return zip(neighbours, [1 for _ in neighbours])"
   ]
  },
  {
   "cell_type": "code",
   "execution_count": 7,
   "id": "e0ef2495",
   "metadata": {},
   "outputs": [],
   "source": [
    "def loyd_astar(start_node, target_node, h):\n",
    "    open_set = set([start_node])\n",
    "    \n",
    "    parents = {}\n",
    "    parents[start_node] = None\n",
    "    \n",
    "    cheapest_paths = defaultdict(lambda: float('inf'))\n",
    "    cheapest_paths[start_node] = 0\n",
    "    \n",
    "    heuristic_guess = defaultdict(lambda: float('inf'))\n",
    "    heuristic_guess[start_node] = h(start_node)\n",
    "    \n",
    "    path_found = False\n",
    "    while len(open_set) > 0:\n",
    "        current_node = get_next_node(open_set, heuristic_guess)\n",
    "        \n",
    "        if current_node == target_node:\n",
    "            path_found = True\n",
    "            break\n",
    "        \n",
    "        open_set.remove(current_node)\n",
    "        for (neighbour_node, weight) in get_neighbours(current_node):\n",
    "            new_cheapest_path = cheapest_paths[current_node] + weight\n",
    "            \n",
    "            if new_cheapest_path < cheapest_paths[neighbour_node]:\n",
    "                parents[neighbour_node] = current_node\n",
    "                cheapest_paths[neighbour_node] = new_cheapest_path\n",
    "                heuristic_guess[neighbour_node] = new_cheapest_path + h(neighbour_node)\n",
    "                \n",
    "                if neighbour_node is not open_set:\n",
    "                    open_set.add(neighbour_node)\n",
    "        \n",
    "    path = []\n",
    "    if path_found:\n",
    "        while target_node is not None:\n",
    "            path.append(target_node)\n",
    "            target_node = parents[target_node]\n",
    "        path.reverse()\n",
    "    \n",
    "    return path"
   ]
  },
  {
   "cell_type": "code",
   "execution_count": 8,
   "id": "6d1ecc58",
   "metadata": {},
   "outputs": [],
   "source": [
    "def loyd_h(state):\n",
    "    state = deserialize(state)\n",
    "    H = 0\n",
    "    n = len(state)\n",
    "    for i in range(n):\n",
    "        for j in range(n):\n",
    "            H += abs(state[i][j] % n - j) + abs(state[i][j] / n - i)    \n",
    "    return H"
   ]
  },
  {
   "cell_type": "code",
   "execution_count": 9,
   "id": "d2c5e8c4",
   "metadata": {},
   "outputs": [
    {
     "data": {
      "text/plain": [
       "['4:1:3:0:2:5:7:8:6',\n",
       " '0:1:3:4:2:5:7:8:6',\n",
       " '1:0:3:4:2:5:7:8:6',\n",
       " '1:2:3:4:0:5:7:8:6',\n",
       " '1:2:3:4:5:0:7:8:6',\n",
       " '1:2:3:4:5:6:7:8:0']"
      ]
     },
     "execution_count": 9,
     "metadata": {},
     "output_type": "execute_result"
    }
   ],
   "source": [
    "path = loyd_astar(serialize(start), serialize(target), loyd_h)\n",
    "path"
   ]
  },
  {
   "cell_type": "code",
   "execution_count": 10,
   "id": "6b4a45a9",
   "metadata": {},
   "outputs": [
    {
     "name": "stdout",
     "output_type": "stream",
     "text": [
      "[[4, 1, 3], [0, 2, 5], [7, 8, 6]]\n",
      "[[0, 1, 3], [4, 2, 5], [7, 8, 6]]\n",
      "[[1, 0, 3], [4, 2, 5], [7, 8, 6]]\n",
      "[[1, 2, 3], [4, 0, 5], [7, 8, 6]]\n",
      "[[1, 2, 3], [4, 5, 0], [7, 8, 6]]\n",
      "[[1, 2, 3], [4, 5, 6], [7, 8, 0]]\n"
     ]
    }
   ],
   "source": [
    "for step in path:\n",
    "    print(deserialize(step))"
   ]
  },
  {
   "cell_type": "markdown",
   "id": "9aa3cdbc",
   "metadata": {},
   "source": [
    "Uopstenje heuristike"
   ]
  },
  {
   "cell_type": "code",
   "execution_count": 11,
   "id": "c0bcea2b",
   "metadata": {},
   "outputs": [],
   "source": [
    "import math\n",
    "def serialize(matrix):\n",
    "    values = []\n",
    "    for row in matrix:\n",
    "        for col in row:\n",
    "            values.append(str(col))\n",
    "    return ':'.join(values)\n",
    "\n",
    "def deserialize(value):\n",
    "    splited = [int(x) for x in value.split(':')]\n",
    "    n = int(math.sqrt(len(splited)))\n",
    "    result = []\n",
    "    for i in range(n):\n",
    "        result.append([x for x in splited[i*n:(i+1)*n]])\n",
    "    return result"
   ]
  },
  {
   "cell_type": "code",
   "execution_count": 12,
   "id": "a7f99f9a",
   "metadata": {},
   "outputs": [],
   "source": [
    "def find_in_matrix(value, matrix):\n",
    "    n = len(matrix)\n",
    "    m = len(matrix[0])\n",
    "    for i in range(n):\n",
    "        for j in range(m):\n",
    "            if value == matrix[i][j]:\n",
    "                return i, j\n",
    "    return None, None\n",
    "\n",
    "\n",
    "def manhattan_sum(current_node, target_node):\n",
    "    '''\n",
    "        Suma menhetn rastojanja izmedju elemenata iz current_matrix i target_matrix\n",
    "           1|3|2         1|2|3\n",
    "        A= 4|6|5     B=  4|7|5\n",
    "           7|8|0         0|8|6\n",
    "        \n",
    "        Suma menhetn rastojanja za elemente iz prve matrice u odnosu na elemente iz druge matrice\n",
    "        H = d(A,B,1) + d(A,B,3) + d(A,B,2) + d(A,B,4) + d(A,B,6)...\n",
    "        H = 0 + 1 + 1 + 0 + 2 + 0 + 2 + 0 + 2\n",
    "    '''\n",
    "    A = deserialize(current_node)\n",
    "    B = deserialize(target_node)\n",
    "    n = len(A)\n",
    "    H = 0\n",
    "    for i in range(n):\n",
    "        for j in range(n):\n",
    "            value = A[i][j]\n",
    "            target_i, target_j = find_in_matrix(value, B)\n",
    "            H += abs(i - target_i) + abs(j - target_j)\n",
    "    return H\n",
    "def chebisev():\n",
    "    pass\n",
    "def euclid_sum(current_node, target_node):\n",
    "    A = deserialize(current_node)\n",
    "    B = deserialize(target_node)\n",
    "    n = len(A)\n",
    "    H = 0\n",
    "    for i in range(n):\n",
    "        for j in range(n):\n",
    "            value = A[i][j]\n",
    "            target_i, target_j = find_in_matrix(value, B)\n",
    "            H += math.sqrt(pow((i - target_i),2) + pow(j - target_j,2))\n",
    "    return H"
   ]
  },
  {
   "cell_type": "code",
   "execution_count": 13,
   "id": "ae3decf9",
   "metadata": {},
   "outputs": [],
   "source": [
    "def astar_loyd(start_node, target_node, h):\n",
    "    open_set = set([start_node])\n",
    "    \n",
    "    parents = {}\n",
    "    parents[start_node] = None\n",
    "    \n",
    "    cheapest_path = defaultdict(lambda: float('inf'))\n",
    "    cheapest_path[start_node] = 0\n",
    "    \n",
    "    heuristic_guess = defaultdict(lambda: float('inf'))\n",
    "    heuristic_guess[start_node] = h(start_node, target_node) # <-------!\n",
    "    \n",
    "    path_found = False\n",
    "    while len(open_set) > 0:\n",
    "        current_node = get_next_node(open_set, heuristic_guess)\n",
    "        \n",
    "        if current_node == target_node:\n",
    "            path_found = True\n",
    "            break\n",
    "        \n",
    "        \n",
    "        open_set.remove(current_node)\n",
    "        for neighbour_node, weight in get_neighbours(current_node):\n",
    "            new_cheapest_path = cheapest_path[current_node] + weight\n",
    "            if new_cheapest_path < cheapest_path[neighbour_node]:\n",
    "                parents[neighbour_node] = current_node\n",
    "                cheapest_path[neighbour_node] = new_cheapest_path\n",
    "                heuristic_guess[neighbour_node] = new_cheapest_path + h(neighbour_node, target_node) # <-----!\n",
    "                if neighbour_node not in open_set:\n",
    "                    open_set.add(neighbour_node)\n",
    "\n",
    "    path = []\n",
    "    if path_found:\n",
    "        while target_node is not None:\n",
    "            path.append(target_node)\n",
    "            target_node = parents[target_node]\n",
    "        path.reverse()\n",
    "    return path"
   ]
  },
  {
   "cell_type": "code",
   "execution_count": 14,
   "id": "a50475c3",
   "metadata": {},
   "outputs": [],
   "source": [
    "def astar_loyd_test(start_node, target_node, h):\n",
    "    ######\n",
    "    \n",
    "    pass\n",
    "    ######"
   ]
  },
  {
   "cell_type": "code",
   "execution_count": 15,
   "id": "822574e3",
   "metadata": {
    "scrolled": true
   },
   "outputs": [
    {
     "data": {
      "text/plain": [
       "['2:0:3:1:4:5:7:8:6',\n",
       " '0:2:3:1:4:5:7:8:6',\n",
       " '1:2:3:0:4:5:7:8:6',\n",
       " '1:2:3:4:0:5:7:8:6',\n",
       " '1:2:3:4:5:0:7:8:6',\n",
       " '1:2:3:4:5:6:7:8:0']"
      ]
     },
     "execution_count": 15,
     "metadata": {},
     "output_type": "execute_result"
    }
   ],
   "source": [
    "start = [\n",
    "    [2,0,3],\n",
    "    [1,4,5],\n",
    "    [7,8,6]\n",
    "]\n",
    "target = [\n",
    "    [1,2,3],\n",
    "    [4,5,6],\n",
    "    [7,8,0]\n",
    "]\n",
    "path = astar_loyd(serialize(start), serialize(target), manhattan_sum)\n",
    "path"
   ]
  },
  {
   "cell_type": "code",
   "execution_count": 16,
   "id": "fe6362b9",
   "metadata": {},
   "outputs": [
    {
     "data": {
      "text/plain": [
       "['2:0:3:1:4:5:7:8:6',\n",
       " '0:2:3:1:4:5:7:8:6',\n",
       " '1:2:3:0:4:5:7:8:6',\n",
       " '1:2:3:4:0:5:7:8:6',\n",
       " '1:2:3:4:5:0:7:8:6',\n",
       " '1:2:3:4:5:6:7:8:0']"
      ]
     },
     "execution_count": 16,
     "metadata": {},
     "output_type": "execute_result"
    }
   ],
   "source": [
    "['2:0:3:1:4:5:7:8:6',\n",
    " '0:2:3:1:4:5:7:8:6',\n",
    " '1:2:3:0:4:5:7:8:6',\n",
    " '1:2:3:4:0:5:7:8:6',\n",
    " '1:2:3:4:5:0:7:8:6',\n",
    " '1:2:3:4:5:6:7:8:0']"
   ]
  }
 ],
 "metadata": {
  "kernelspec": {
   "display_name": "Python 3",
   "language": "python",
   "name": "python3"
  },
  "language_info": {
   "codemirror_mode": {
    "name": "ipython",
    "version": 3
   },
   "file_extension": ".py",
   "mimetype": "text/x-python",
   "name": "python",
   "nbconvert_exporter": "python",
   "pygments_lexer": "ipython3",
   "version": "3.8.10"
  }
 },
 "nbformat": 4,
 "nbformat_minor": 5
}
