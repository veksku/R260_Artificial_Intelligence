{
  "cells": [
    {
      "cell_type": "markdown",
      "metadata": {
        "id": "EIdT9iu_Z4Rb"
      },
      "source": [
        "# Regresija: Predviđanje potrošnje goriva "
      ]
    },
    {
      "cell_type": "markdown",
      "metadata": {
        "id": "AHp3M9ZmrIxj"
      },
      "source": [
        "U problemu regresije, cilj je izvršiti predikciju kontinualne vrednosti\n",
        "poput cene proizvoda ili visine osobe. U ovom primeru ćemo videti\n",
        "kako se neuronske mreže mogu koristiti za rešavanje problema\n",
        "regresije, a za te potrebe ćemo koristiti skup podataka\n",
        "[Auto MPG](https://archive.ics.uci.edu/ml/datasets/auto+mpg) koji ima\n",
        "podatke o potrošnji goriva za automobile iz perida 1970-1980."
      ]
    },
    {
      "cell_type": "code",
      "execution_count": 1,
      "metadata": {
        "colab": {
          "base_uri": "https://localhost:8080/"
        },
        "id": "1rRo8oNqZ-Rj",
        "outputId": "f1ef10af-30dc-435a-9682-8fe199746fcf"
      },
      "outputs": [
        {
          "output_type": "stream",
          "name": "stdout",
          "text": [
            "2.8.2\n"
          ]
        }
      ],
      "source": [
        "import pathlib\n",
        "\n",
        "import matplotlib.pyplot as plt\n",
        "import numpy as np\n",
        "import pandas as pd\n",
        "\n",
        "import tensorflow as tf\n",
        "\n",
        "from tensorflow import keras\n",
        "from tensorflow.keras import layers\n",
        "\n",
        "print(tf.__version__)"
      ]
    },
    {
      "cell_type": "markdown",
      "metadata": {
        "id": "gFh9ne3FZ-On"
      },
      "source": [
        "Preuzimanje podataka"
      ]
    },
    {
      "cell_type": "code",
      "execution_count": 2,
      "metadata": {
        "colab": {
          "base_uri": "https://localhost:8080/",
          "height": 35
        },
        "id": "p9kxxgzvzlyz",
        "outputId": "c2c795c2-35c0-4054-c818-a1f62d6b6583"
      },
      "outputs": [
        {
          "output_type": "execute_result",
          "data": {
            "text/plain": [
              "'/root/.keras/datasets/auto-mpg.data'"
            ],
            "application/vnd.google.colaboratory.intrinsic+json": {
              "type": "string"
            }
          },
          "metadata": {},
          "execution_count": 2
        }
      ],
      "source": [
        "dataset_path = keras.utils.get_file(\"auto-mpg.data\", \"http://archive.ics.uci.edu/ml/machine-learning-databases/auto-mpg/auto-mpg.data\")\n",
        "dataset_path"
      ]
    },
    {
      "cell_type": "markdown",
      "metadata": {
        "id": "nslsRLh7Zss4"
      },
      "source": [
        "Potom možemo učitati podatke koristeći `pandas` biblioteku za rad\n",
        "sa tabelarnim podacima.\n",
        "\n",
        "Od vas se ne očekuje duboko poznavanje biblioteke\n",
        "`pandas` već samo nekoliko elementarnih transformacija koje će biti prikazane.\n",
        "U ispitnim zadacima će podaci biti učitani (ali ne i pretprocesirani) za vas."
      ]
    },
    {
      "cell_type": "code",
      "execution_count": 3,
      "metadata": {
        "colab": {
          "base_uri": "https://localhost:8080/",
          "height": 206
        },
        "id": "CiX2FI4gZtTt",
        "outputId": "4d202f5d-aec6-481b-bf77-809a3f3892ea"
      },
      "outputs": [
        {
          "output_type": "execute_result",
          "data": {
            "text/plain": [
              "      MPG  Cylinders  Displacement  Horsepower  Weight  Acceleration  \\\n",
              "393  27.0          4         140.0        86.0  2790.0          15.6   \n",
              "394  44.0          4          97.0        52.0  2130.0          24.6   \n",
              "395  32.0          4         135.0        84.0  2295.0          11.6   \n",
              "396  28.0          4         120.0        79.0  2625.0          18.6   \n",
              "397  31.0          4         119.0        82.0  2720.0          19.4   \n",
              "\n",
              "     Model Year  Origin  \n",
              "393          82       1  \n",
              "394          82       2  \n",
              "395          82       1  \n",
              "396          82       1  \n",
              "397          82       1  "
            ],
            "text/html": [
              "\n",
              "  <div id=\"df-9b692bd0-4357-4239-9493-56eed021f97a\">\n",
              "    <div class=\"colab-df-container\">\n",
              "      <div>\n",
              "<style scoped>\n",
              "    .dataframe tbody tr th:only-of-type {\n",
              "        vertical-align: middle;\n",
              "    }\n",
              "\n",
              "    .dataframe tbody tr th {\n",
              "        vertical-align: top;\n",
              "    }\n",
              "\n",
              "    .dataframe thead th {\n",
              "        text-align: right;\n",
              "    }\n",
              "</style>\n",
              "<table border=\"1\" class=\"dataframe\">\n",
              "  <thead>\n",
              "    <tr style=\"text-align: right;\">\n",
              "      <th></th>\n",
              "      <th>MPG</th>\n",
              "      <th>Cylinders</th>\n",
              "      <th>Displacement</th>\n",
              "      <th>Horsepower</th>\n",
              "      <th>Weight</th>\n",
              "      <th>Acceleration</th>\n",
              "      <th>Model Year</th>\n",
              "      <th>Origin</th>\n",
              "    </tr>\n",
              "  </thead>\n",
              "  <tbody>\n",
              "    <tr>\n",
              "      <th>393</th>\n",
              "      <td>27.0</td>\n",
              "      <td>4</td>\n",
              "      <td>140.0</td>\n",
              "      <td>86.0</td>\n",
              "      <td>2790.0</td>\n",
              "      <td>15.6</td>\n",
              "      <td>82</td>\n",
              "      <td>1</td>\n",
              "    </tr>\n",
              "    <tr>\n",
              "      <th>394</th>\n",
              "      <td>44.0</td>\n",
              "      <td>4</td>\n",
              "      <td>97.0</td>\n",
              "      <td>52.0</td>\n",
              "      <td>2130.0</td>\n",
              "      <td>24.6</td>\n",
              "      <td>82</td>\n",
              "      <td>2</td>\n",
              "    </tr>\n",
              "    <tr>\n",
              "      <th>395</th>\n",
              "      <td>32.0</td>\n",
              "      <td>4</td>\n",
              "      <td>135.0</td>\n",
              "      <td>84.0</td>\n",
              "      <td>2295.0</td>\n",
              "      <td>11.6</td>\n",
              "      <td>82</td>\n",
              "      <td>1</td>\n",
              "    </tr>\n",
              "    <tr>\n",
              "      <th>396</th>\n",
              "      <td>28.0</td>\n",
              "      <td>4</td>\n",
              "      <td>120.0</td>\n",
              "      <td>79.0</td>\n",
              "      <td>2625.0</td>\n",
              "      <td>18.6</td>\n",
              "      <td>82</td>\n",
              "      <td>1</td>\n",
              "    </tr>\n",
              "    <tr>\n",
              "      <th>397</th>\n",
              "      <td>31.0</td>\n",
              "      <td>4</td>\n",
              "      <td>119.0</td>\n",
              "      <td>82.0</td>\n",
              "      <td>2720.0</td>\n",
              "      <td>19.4</td>\n",
              "      <td>82</td>\n",
              "      <td>1</td>\n",
              "    </tr>\n",
              "  </tbody>\n",
              "</table>\n",
              "</div>\n",
              "      <button class=\"colab-df-convert\" onclick=\"convertToInteractive('df-9b692bd0-4357-4239-9493-56eed021f97a')\"\n",
              "              title=\"Convert this dataframe to an interactive table.\"\n",
              "              style=\"display:none;\">\n",
              "        \n",
              "  <svg xmlns=\"http://www.w3.org/2000/svg\" height=\"24px\"viewBox=\"0 0 24 24\"\n",
              "       width=\"24px\">\n",
              "    <path d=\"M0 0h24v24H0V0z\" fill=\"none\"/>\n",
              "    <path d=\"M18.56 5.44l.94 2.06.94-2.06 2.06-.94-2.06-.94-.94-2.06-.94 2.06-2.06.94zm-11 1L8.5 8.5l.94-2.06 2.06-.94-2.06-.94L8.5 2.5l-.94 2.06-2.06.94zm10 10l.94 2.06.94-2.06 2.06-.94-2.06-.94-.94-2.06-.94 2.06-2.06.94z\"/><path d=\"M17.41 7.96l-1.37-1.37c-.4-.4-.92-.59-1.43-.59-.52 0-1.04.2-1.43.59L10.3 9.45l-7.72 7.72c-.78.78-.78 2.05 0 2.83L4 21.41c.39.39.9.59 1.41.59.51 0 1.02-.2 1.41-.59l7.78-7.78 2.81-2.81c.8-.78.8-2.07 0-2.86zM5.41 20L4 18.59l7.72-7.72 1.47 1.35L5.41 20z\"/>\n",
              "  </svg>\n",
              "      </button>\n",
              "      \n",
              "  <style>\n",
              "    .colab-df-container {\n",
              "      display:flex;\n",
              "      flex-wrap:wrap;\n",
              "      gap: 12px;\n",
              "    }\n",
              "\n",
              "    .colab-df-convert {\n",
              "      background-color: #E8F0FE;\n",
              "      border: none;\n",
              "      border-radius: 50%;\n",
              "      cursor: pointer;\n",
              "      display: none;\n",
              "      fill: #1967D2;\n",
              "      height: 32px;\n",
              "      padding: 0 0 0 0;\n",
              "      width: 32px;\n",
              "    }\n",
              "\n",
              "    .colab-df-convert:hover {\n",
              "      background-color: #E2EBFA;\n",
              "      box-shadow: 0px 1px 2px rgba(60, 64, 67, 0.3), 0px 1px 3px 1px rgba(60, 64, 67, 0.15);\n",
              "      fill: #174EA6;\n",
              "    }\n",
              "\n",
              "    [theme=dark] .colab-df-convert {\n",
              "      background-color: #3B4455;\n",
              "      fill: #D2E3FC;\n",
              "    }\n",
              "\n",
              "    [theme=dark] .colab-df-convert:hover {\n",
              "      background-color: #434B5C;\n",
              "      box-shadow: 0px 1px 3px 1px rgba(0, 0, 0, 0.15);\n",
              "      filter: drop-shadow(0px 1px 2px rgba(0, 0, 0, 0.3));\n",
              "      fill: #FFFFFF;\n",
              "    }\n",
              "  </style>\n",
              "\n",
              "      <script>\n",
              "        const buttonEl =\n",
              "          document.querySelector('#df-9b692bd0-4357-4239-9493-56eed021f97a button.colab-df-convert');\n",
              "        buttonEl.style.display =\n",
              "          google.colab.kernel.accessAllowed ? 'block' : 'none';\n",
              "\n",
              "        async function convertToInteractive(key) {\n",
              "          const element = document.querySelector('#df-9b692bd0-4357-4239-9493-56eed021f97a');\n",
              "          const dataTable =\n",
              "            await google.colab.kernel.invokeFunction('convertToInteractive',\n",
              "                                                     [key], {});\n",
              "          if (!dataTable) return;\n",
              "\n",
              "          const docLinkHtml = 'Like what you see? Visit the ' +\n",
              "            '<a target=\"_blank\" href=https://colab.research.google.com/notebooks/data_table.ipynb>data table notebook</a>'\n",
              "            + ' to learn more about interactive tables.';\n",
              "          element.innerHTML = '';\n",
              "          dataTable['output_type'] = 'display_data';\n",
              "          await google.colab.output.renderOutput(dataTable, element);\n",
              "          const docLink = document.createElement('div');\n",
              "          docLink.innerHTML = docLinkHtml;\n",
              "          element.appendChild(docLink);\n",
              "        }\n",
              "      </script>\n",
              "    </div>\n",
              "  </div>\n",
              "  "
            ]
          },
          "metadata": {},
          "execution_count": 3
        }
      ],
      "source": [
        "column_names = ['MPG','Cylinders','Displacement','Horsepower','Weight',\n",
        "                'Acceleration', 'Model Year', 'Origin']\n",
        "raw_dataset = pd.read_csv(dataset_path, names=column_names,\n",
        "                      na_values = \"?\", comment='\\t',\n",
        "                      sep=\" \", skipinitialspace=True)\n",
        "\n",
        "dataset = raw_dataset.copy()\n",
        "dataset.tail()"
      ]
    },
    {
      "cell_type": "markdown",
      "metadata": {
        "id": "3MWuJTKEDM-f"
      },
      "source": [
        "### Sređivanje podataka\n",
        "\n",
        "Skup sadrži neke podatke koji imaju nedostajuće vrednosti."
      ]
    },
    {
      "cell_type": "code",
      "execution_count": 4,
      "metadata": {
        "colab": {
          "base_uri": "https://localhost:8080/"
        },
        "id": "JEJHhN65a2VV",
        "outputId": "3c338fe7-803e-4fdd-df0f-2cdfbf8dac57"
      },
      "outputs": [
        {
          "output_type": "execute_result",
          "data": {
            "text/plain": [
              "MPG             0\n",
              "Cylinders       0\n",
              "Displacement    0\n",
              "Horsepower      6\n",
              "Weight          0\n",
              "Acceleration    0\n",
              "Model Year      0\n",
              "Origin          0\n",
              "dtype: int64"
            ]
          },
          "metadata": {},
          "execution_count": 4
        }
      ],
      "source": [
        "dataset.isna().sum()"
      ]
    },
    {
      "cell_type": "markdown",
      "metadata": {
        "id": "9UPN0KBHa_WI"
      },
      "source": [
        "Postoje različiti načini da se bori protiv nedostajućih vrednosti\n",
        "(njihova aproksimacija prosekom ili drugim vrednostima i slično), ali se u ovom\n",
        "kursu nećemo baviti time. U našem slučaju, izbacićemo vrste (instance) koje\n",
        "imaju nedostajuće vrednosti."
      ]
    },
    {
      "cell_type": "code",
      "execution_count": 5,
      "metadata": {
        "id": "4ZUDosChC1UN"
      },
      "outputs": [],
      "source": [
        "dataset = dataset.dropna()"
      ]
    },
    {
      "cell_type": "markdown",
      "metadata": {
        "id": "8XKitwaH4v8h"
      },
      "source": [
        "SAVET: Ovo je izuzetno korisna transformacija u praksi. Želimo da elemente\n",
        "kolone zamenimo nekim drugim vrednosti u zavisnosti od mapiranja koje prosledimo."
      ]
    },
    {
      "cell_type": "code",
      "execution_count": 6,
      "metadata": {
        "id": "gWNTD2QjBWFJ"
      },
      "outputs": [],
      "source": [
        "#dataset['Origin'] = dataset['Origin'].map({1: 'USA', 2: 'Europe', 3: 'Japan'})"
      ]
    },
    {
      "cell_type": "markdown",
      "metadata": {
        "id": "X2bGpaH5MKDY"
      },
      "source": [
        "Vršimo dummy enkodiranje kategoričke promenljive."
      ]
    },
    {
      "cell_type": "code",
      "execution_count": 7,
      "metadata": {
        "colab": {
          "base_uri": "https://localhost:8080/",
          "height": 206
        },
        "id": "ulXz4J7PAUzk",
        "outputId": "b15c220c-ff76-4202-a45c-257efb4af522"
      },
      "outputs": [
        {
          "output_type": "execute_result",
          "data": {
            "text/plain": [
              "      MPG  Cylinders  Displacement  Horsepower  Weight  Acceleration  \\\n",
              "393  27.0          4         140.0        86.0  2790.0          15.6   \n",
              "394  44.0          4          97.0        52.0  2130.0          24.6   \n",
              "395  32.0          4         135.0        84.0  2295.0          11.6   \n",
              "396  28.0          4         120.0        79.0  2625.0          18.6   \n",
              "397  31.0          4         119.0        82.0  2720.0          19.4   \n",
              "\n",
              "     Model Year  Europe  Japan  USA  \n",
              "393          82       0      0    1  \n",
              "394          82       1      0    0  \n",
              "395          82       0      0    1  \n",
              "396          82       0      0    1  \n",
              "397          82       0      0    1  "
            ],
            "text/html": [
              "\n",
              "  <div id=\"df-1c46215c-fd96-4611-97d2-93ff2c327a56\">\n",
              "    <div class=\"colab-df-container\">\n",
              "      <div>\n",
              "<style scoped>\n",
              "    .dataframe tbody tr th:only-of-type {\n",
              "        vertical-align: middle;\n",
              "    }\n",
              "\n",
              "    .dataframe tbody tr th {\n",
              "        vertical-align: top;\n",
              "    }\n",
              "\n",
              "    .dataframe thead th {\n",
              "        text-align: right;\n",
              "    }\n",
              "</style>\n",
              "<table border=\"1\" class=\"dataframe\">\n",
              "  <thead>\n",
              "    <tr style=\"text-align: right;\">\n",
              "      <th></th>\n",
              "      <th>MPG</th>\n",
              "      <th>Cylinders</th>\n",
              "      <th>Displacement</th>\n",
              "      <th>Horsepower</th>\n",
              "      <th>Weight</th>\n",
              "      <th>Acceleration</th>\n",
              "      <th>Model Year</th>\n",
              "      <th>Europe</th>\n",
              "      <th>Japan</th>\n",
              "      <th>USA</th>\n",
              "    </tr>\n",
              "  </thead>\n",
              "  <tbody>\n",
              "    <tr>\n",
              "      <th>393</th>\n",
              "      <td>27.0</td>\n",
              "      <td>4</td>\n",
              "      <td>140.0</td>\n",
              "      <td>86.0</td>\n",
              "      <td>2790.0</td>\n",
              "      <td>15.6</td>\n",
              "      <td>82</td>\n",
              "      <td>0</td>\n",
              "      <td>0</td>\n",
              "      <td>1</td>\n",
              "    </tr>\n",
              "    <tr>\n",
              "      <th>394</th>\n",
              "      <td>44.0</td>\n",
              "      <td>4</td>\n",
              "      <td>97.0</td>\n",
              "      <td>52.0</td>\n",
              "      <td>2130.0</td>\n",
              "      <td>24.6</td>\n",
              "      <td>82</td>\n",
              "      <td>1</td>\n",
              "      <td>0</td>\n",
              "      <td>0</td>\n",
              "    </tr>\n",
              "    <tr>\n",
              "      <th>395</th>\n",
              "      <td>32.0</td>\n",
              "      <td>4</td>\n",
              "      <td>135.0</td>\n",
              "      <td>84.0</td>\n",
              "      <td>2295.0</td>\n",
              "      <td>11.6</td>\n",
              "      <td>82</td>\n",
              "      <td>0</td>\n",
              "      <td>0</td>\n",
              "      <td>1</td>\n",
              "    </tr>\n",
              "    <tr>\n",
              "      <th>396</th>\n",
              "      <td>28.0</td>\n",
              "      <td>4</td>\n",
              "      <td>120.0</td>\n",
              "      <td>79.0</td>\n",
              "      <td>2625.0</td>\n",
              "      <td>18.6</td>\n",
              "      <td>82</td>\n",
              "      <td>0</td>\n",
              "      <td>0</td>\n",
              "      <td>1</td>\n",
              "    </tr>\n",
              "    <tr>\n",
              "      <th>397</th>\n",
              "      <td>31.0</td>\n",
              "      <td>4</td>\n",
              "      <td>119.0</td>\n",
              "      <td>82.0</td>\n",
              "      <td>2720.0</td>\n",
              "      <td>19.4</td>\n",
              "      <td>82</td>\n",
              "      <td>0</td>\n",
              "      <td>0</td>\n",
              "      <td>1</td>\n",
              "    </tr>\n",
              "  </tbody>\n",
              "</table>\n",
              "</div>\n",
              "      <button class=\"colab-df-convert\" onclick=\"convertToInteractive('df-1c46215c-fd96-4611-97d2-93ff2c327a56')\"\n",
              "              title=\"Convert this dataframe to an interactive table.\"\n",
              "              style=\"display:none;\">\n",
              "        \n",
              "  <svg xmlns=\"http://www.w3.org/2000/svg\" height=\"24px\"viewBox=\"0 0 24 24\"\n",
              "       width=\"24px\">\n",
              "    <path d=\"M0 0h24v24H0V0z\" fill=\"none\"/>\n",
              "    <path d=\"M18.56 5.44l.94 2.06.94-2.06 2.06-.94-2.06-.94-.94-2.06-.94 2.06-2.06.94zm-11 1L8.5 8.5l.94-2.06 2.06-.94-2.06-.94L8.5 2.5l-.94 2.06-2.06.94zm10 10l.94 2.06.94-2.06 2.06-.94-2.06-.94-.94-2.06-.94 2.06-2.06.94z\"/><path d=\"M17.41 7.96l-1.37-1.37c-.4-.4-.92-.59-1.43-.59-.52 0-1.04.2-1.43.59L10.3 9.45l-7.72 7.72c-.78.78-.78 2.05 0 2.83L4 21.41c.39.39.9.59 1.41.59.51 0 1.02-.2 1.41-.59l7.78-7.78 2.81-2.81c.8-.78.8-2.07 0-2.86zM5.41 20L4 18.59l7.72-7.72 1.47 1.35L5.41 20z\"/>\n",
              "  </svg>\n",
              "      </button>\n",
              "      \n",
              "  <style>\n",
              "    .colab-df-container {\n",
              "      display:flex;\n",
              "      flex-wrap:wrap;\n",
              "      gap: 12px;\n",
              "    }\n",
              "\n",
              "    .colab-df-convert {\n",
              "      background-color: #E8F0FE;\n",
              "      border: none;\n",
              "      border-radius: 50%;\n",
              "      cursor: pointer;\n",
              "      display: none;\n",
              "      fill: #1967D2;\n",
              "      height: 32px;\n",
              "      padding: 0 0 0 0;\n",
              "      width: 32px;\n",
              "    }\n",
              "\n",
              "    .colab-df-convert:hover {\n",
              "      background-color: #E2EBFA;\n",
              "      box-shadow: 0px 1px 2px rgba(60, 64, 67, 0.3), 0px 1px 3px 1px rgba(60, 64, 67, 0.15);\n",
              "      fill: #174EA6;\n",
              "    }\n",
              "\n",
              "    [theme=dark] .colab-df-convert {\n",
              "      background-color: #3B4455;\n",
              "      fill: #D2E3FC;\n",
              "    }\n",
              "\n",
              "    [theme=dark] .colab-df-convert:hover {\n",
              "      background-color: #434B5C;\n",
              "      box-shadow: 0px 1px 3px 1px rgba(0, 0, 0, 0.15);\n",
              "      filter: drop-shadow(0px 1px 2px rgba(0, 0, 0, 0.3));\n",
              "      fill: #FFFFFF;\n",
              "    }\n",
              "  </style>\n",
              "\n",
              "      <script>\n",
              "        const buttonEl =\n",
              "          document.querySelector('#df-1c46215c-fd96-4611-97d2-93ff2c327a56 button.colab-df-convert');\n",
              "        buttonEl.style.display =\n",
              "          google.colab.kernel.accessAllowed ? 'block' : 'none';\n",
              "\n",
              "        async function convertToInteractive(key) {\n",
              "          const element = document.querySelector('#df-1c46215c-fd96-4611-97d2-93ff2c327a56');\n",
              "          const dataTable =\n",
              "            await google.colab.kernel.invokeFunction('convertToInteractive',\n",
              "                                                     [key], {});\n",
              "          if (!dataTable) return;\n",
              "\n",
              "          const docLinkHtml = 'Like what you see? Visit the ' +\n",
              "            '<a target=\"_blank\" href=https://colab.research.google.com/notebooks/data_table.ipynb>data table notebook</a>'\n",
              "            + ' to learn more about interactive tables.';\n",
              "          element.innerHTML = '';\n",
              "          dataTable['output_type'] = 'display_data';\n",
              "          await google.colab.output.renderOutput(dataTable, element);\n",
              "          const docLink = document.createElement('div');\n",
              "          docLink.innerHTML = docLinkHtml;\n",
              "          element.appendChild(docLink);\n",
              "        }\n",
              "      </script>\n",
              "    </div>\n",
              "  </div>\n",
              "  "
            ]
          },
          "metadata": {},
          "execution_count": 7
        }
      ],
      "source": [
        "#dataset = pd.get_dummies(dataset, prefix='', prefix_sep='')\n",
        "#dataset.tail()"
      ]
    },
    {
      "cell_type": "markdown",
      "metadata": {
        "id": "Cuym4yvk76vU"
      },
      "source": [
        "### Podela podataka\n",
        "\n",
        "Podatke sada želimo da podelimo na\n",
        "podatke za obučavanje i podatke za testiranje.\n",
        "\n",
        "Podatke za testiranje ćemo koristiti za finalnu evaluaciju našeg modela."
      ]
    },
    {
      "cell_type": "code",
      "execution_count": 8,
      "metadata": {
        "colab": {
          "base_uri": "https://localhost:8080/",
          "height": 300
        },
        "id": "qn-IGhUE7_1H",
        "outputId": "cf33e2f7-690b-477a-f481-3d2ad96bdf2a"
      },
      "outputs": [
        {
          "output_type": "execute_result",
          "data": {
            "text/plain": [
              "        Cylinders  Displacement  Horsepower       Weight  Acceleration  \\\n",
              "count  314.000000    314.000000  314.000000   314.000000    314.000000   \n",
              "mean     5.477707    195.318471  104.869427  2990.251592     15.559236   \n",
              "std      1.699788    104.331589   38.096214   843.898596      2.789230   \n",
              "min      3.000000     68.000000   46.000000  1649.000000      8.000000   \n",
              "25%      4.000000    105.500000   76.250000  2256.500000     13.800000   \n",
              "50%      4.000000    151.000000   94.500000  2822.500000     15.500000   \n",
              "75%      8.000000    265.750000  128.000000  3608.000000     17.200000   \n",
              "max      8.000000    455.000000  225.000000  5140.000000     24.800000   \n",
              "\n",
              "       Model Year      Europe       Japan         USA  \n",
              "count  314.000000  314.000000  314.000000  314.000000  \n",
              "mean    75.898089    0.178344    0.197452    0.624204  \n",
              "std      3.675642    0.383413    0.398712    0.485101  \n",
              "min     70.000000    0.000000    0.000000    0.000000  \n",
              "25%     73.000000    0.000000    0.000000    0.000000  \n",
              "50%     76.000000    0.000000    0.000000    1.000000  \n",
              "75%     79.000000    0.000000    0.000000    1.000000  \n",
              "max     82.000000    1.000000    1.000000    1.000000  "
            ],
            "text/html": [
              "\n",
              "  <div id=\"df-572f1678-a6ec-43b5-b792-a48bf0fa558f\">\n",
              "    <div class=\"colab-df-container\">\n",
              "      <div>\n",
              "<style scoped>\n",
              "    .dataframe tbody tr th:only-of-type {\n",
              "        vertical-align: middle;\n",
              "    }\n",
              "\n",
              "    .dataframe tbody tr th {\n",
              "        vertical-align: top;\n",
              "    }\n",
              "\n",
              "    .dataframe thead th {\n",
              "        text-align: right;\n",
              "    }\n",
              "</style>\n",
              "<table border=\"1\" class=\"dataframe\">\n",
              "  <thead>\n",
              "    <tr style=\"text-align: right;\">\n",
              "      <th></th>\n",
              "      <th>Cylinders</th>\n",
              "      <th>Displacement</th>\n",
              "      <th>Horsepower</th>\n",
              "      <th>Weight</th>\n",
              "      <th>Acceleration</th>\n",
              "      <th>Model Year</th>\n",
              "      <th>Europe</th>\n",
              "      <th>Japan</th>\n",
              "      <th>USA</th>\n",
              "    </tr>\n",
              "  </thead>\n",
              "  <tbody>\n",
              "    <tr>\n",
              "      <th>count</th>\n",
              "      <td>314.000000</td>\n",
              "      <td>314.000000</td>\n",
              "      <td>314.000000</td>\n",
              "      <td>314.000000</td>\n",
              "      <td>314.000000</td>\n",
              "      <td>314.000000</td>\n",
              "      <td>314.000000</td>\n",
              "      <td>314.000000</td>\n",
              "      <td>314.000000</td>\n",
              "    </tr>\n",
              "    <tr>\n",
              "      <th>mean</th>\n",
              "      <td>5.477707</td>\n",
              "      <td>195.318471</td>\n",
              "      <td>104.869427</td>\n",
              "      <td>2990.251592</td>\n",
              "      <td>15.559236</td>\n",
              "      <td>75.898089</td>\n",
              "      <td>0.178344</td>\n",
              "      <td>0.197452</td>\n",
              "      <td>0.624204</td>\n",
              "    </tr>\n",
              "    <tr>\n",
              "      <th>std</th>\n",
              "      <td>1.699788</td>\n",
              "      <td>104.331589</td>\n",
              "      <td>38.096214</td>\n",
              "      <td>843.898596</td>\n",
              "      <td>2.789230</td>\n",
              "      <td>3.675642</td>\n",
              "      <td>0.383413</td>\n",
              "      <td>0.398712</td>\n",
              "      <td>0.485101</td>\n",
              "    </tr>\n",
              "    <tr>\n",
              "      <th>min</th>\n",
              "      <td>3.000000</td>\n",
              "      <td>68.000000</td>\n",
              "      <td>46.000000</td>\n",
              "      <td>1649.000000</td>\n",
              "      <td>8.000000</td>\n",
              "      <td>70.000000</td>\n",
              "      <td>0.000000</td>\n",
              "      <td>0.000000</td>\n",
              "      <td>0.000000</td>\n",
              "    </tr>\n",
              "    <tr>\n",
              "      <th>25%</th>\n",
              "      <td>4.000000</td>\n",
              "      <td>105.500000</td>\n",
              "      <td>76.250000</td>\n",
              "      <td>2256.500000</td>\n",
              "      <td>13.800000</td>\n",
              "      <td>73.000000</td>\n",
              "      <td>0.000000</td>\n",
              "      <td>0.000000</td>\n",
              "      <td>0.000000</td>\n",
              "    </tr>\n",
              "    <tr>\n",
              "      <th>50%</th>\n",
              "      <td>4.000000</td>\n",
              "      <td>151.000000</td>\n",
              "      <td>94.500000</td>\n",
              "      <td>2822.500000</td>\n",
              "      <td>15.500000</td>\n",
              "      <td>76.000000</td>\n",
              "      <td>0.000000</td>\n",
              "      <td>0.000000</td>\n",
              "      <td>1.000000</td>\n",
              "    </tr>\n",
              "    <tr>\n",
              "      <th>75%</th>\n",
              "      <td>8.000000</td>\n",
              "      <td>265.750000</td>\n",
              "      <td>128.000000</td>\n",
              "      <td>3608.000000</td>\n",
              "      <td>17.200000</td>\n",
              "      <td>79.000000</td>\n",
              "      <td>0.000000</td>\n",
              "      <td>0.000000</td>\n",
              "      <td>1.000000</td>\n",
              "    </tr>\n",
              "    <tr>\n",
              "      <th>max</th>\n",
              "      <td>8.000000</td>\n",
              "      <td>455.000000</td>\n",
              "      <td>225.000000</td>\n",
              "      <td>5140.000000</td>\n",
              "      <td>24.800000</td>\n",
              "      <td>82.000000</td>\n",
              "      <td>1.000000</td>\n",
              "      <td>1.000000</td>\n",
              "      <td>1.000000</td>\n",
              "    </tr>\n",
              "  </tbody>\n",
              "</table>\n",
              "</div>\n",
              "      <button class=\"colab-df-convert\" onclick=\"convertToInteractive('df-572f1678-a6ec-43b5-b792-a48bf0fa558f')\"\n",
              "              title=\"Convert this dataframe to an interactive table.\"\n",
              "              style=\"display:none;\">\n",
              "        \n",
              "  <svg xmlns=\"http://www.w3.org/2000/svg\" height=\"24px\"viewBox=\"0 0 24 24\"\n",
              "       width=\"24px\">\n",
              "    <path d=\"M0 0h24v24H0V0z\" fill=\"none\"/>\n",
              "    <path d=\"M18.56 5.44l.94 2.06.94-2.06 2.06-.94-2.06-.94-.94-2.06-.94 2.06-2.06.94zm-11 1L8.5 8.5l.94-2.06 2.06-.94-2.06-.94L8.5 2.5l-.94 2.06-2.06.94zm10 10l.94 2.06.94-2.06 2.06-.94-2.06-.94-.94-2.06-.94 2.06-2.06.94z\"/><path d=\"M17.41 7.96l-1.37-1.37c-.4-.4-.92-.59-1.43-.59-.52 0-1.04.2-1.43.59L10.3 9.45l-7.72 7.72c-.78.78-.78 2.05 0 2.83L4 21.41c.39.39.9.59 1.41.59.51 0 1.02-.2 1.41-.59l7.78-7.78 2.81-2.81c.8-.78.8-2.07 0-2.86zM5.41 20L4 18.59l7.72-7.72 1.47 1.35L5.41 20z\"/>\n",
              "  </svg>\n",
              "      </button>\n",
              "      \n",
              "  <style>\n",
              "    .colab-df-container {\n",
              "      display:flex;\n",
              "      flex-wrap:wrap;\n",
              "      gap: 12px;\n",
              "    }\n",
              "\n",
              "    .colab-df-convert {\n",
              "      background-color: #E8F0FE;\n",
              "      border: none;\n",
              "      border-radius: 50%;\n",
              "      cursor: pointer;\n",
              "      display: none;\n",
              "      fill: #1967D2;\n",
              "      height: 32px;\n",
              "      padding: 0 0 0 0;\n",
              "      width: 32px;\n",
              "    }\n",
              "\n",
              "    .colab-df-convert:hover {\n",
              "      background-color: #E2EBFA;\n",
              "      box-shadow: 0px 1px 2px rgba(60, 64, 67, 0.3), 0px 1px 3px 1px rgba(60, 64, 67, 0.15);\n",
              "      fill: #174EA6;\n",
              "    }\n",
              "\n",
              "    [theme=dark] .colab-df-convert {\n",
              "      background-color: #3B4455;\n",
              "      fill: #D2E3FC;\n",
              "    }\n",
              "\n",
              "    [theme=dark] .colab-df-convert:hover {\n",
              "      background-color: #434B5C;\n",
              "      box-shadow: 0px 1px 3px 1px rgba(0, 0, 0, 0.15);\n",
              "      filter: drop-shadow(0px 1px 2px rgba(0, 0, 0, 0.3));\n",
              "      fill: #FFFFFF;\n",
              "    }\n",
              "  </style>\n",
              "\n",
              "      <script>\n",
              "        const buttonEl =\n",
              "          document.querySelector('#df-572f1678-a6ec-43b5-b792-a48bf0fa558f button.colab-df-convert');\n",
              "        buttonEl.style.display =\n",
              "          google.colab.kernel.accessAllowed ? 'block' : 'none';\n",
              "\n",
              "        async function convertToInteractive(key) {\n",
              "          const element = document.querySelector('#df-572f1678-a6ec-43b5-b792-a48bf0fa558f');\n",
              "          const dataTable =\n",
              "            await google.colab.kernel.invokeFunction('convertToInteractive',\n",
              "                                                     [key], {});\n",
              "          if (!dataTable) return;\n",
              "\n",
              "          const docLinkHtml = 'Like what you see? Visit the ' +\n",
              "            '<a target=\"_blank\" href=https://colab.research.google.com/notebooks/data_table.ipynb>data table notebook</a>'\n",
              "            + ' to learn more about interactive tables.';\n",
              "          element.innerHTML = '';\n",
              "          dataTable['output_type'] = 'display_data';\n",
              "          await google.colab.output.renderOutput(dataTable, element);\n",
              "          const docLink = document.createElement('div');\n",
              "          docLink.innerHTML = docLinkHtml;\n",
              "          element.appendChild(docLink);\n",
              "        }\n",
              "      </script>\n",
              "    </div>\n",
              "  </div>\n",
              "  "
            ]
          },
          "metadata": {},
          "execution_count": 8
        }
      ],
      "source": [
        "# Uzimamo 80% podataka kao podatke za obucavanje\n",
        "train_dataset = dataset.sample(frac=0.8,random_state=0)\n",
        "\n",
        "# Ostalih 20% koristimo kao podatke za testiranje\n",
        "test_dataset = dataset.drop(train_dataset.index)\n",
        "\n",
        "train_stats = train_dataset.describe()\n",
        "train_stats.pop(\"MPG\")\n",
        "train_stats"
      ]
    },
    {
      "cell_type": "markdown",
      "metadata": {
        "id": "gavKO_6DWRMP"
      },
      "source": [
        "Pogledati opšte statistike. Atribut `MPG` ignorišemo jer će nam to biti ciljna\n",
        "promenljiva."
      ]
    },
    {
      "cell_type": "code",
      "execution_count": 9,
      "metadata": {
        "colab": {
          "base_uri": "https://localhost:8080/",
          "height": 332
        },
        "id": "yi2FzC3T21jR",
        "outputId": "ea336745-65c6-4b8a-a654-52b698da1e7f"
      },
      "outputs": [
        {
          "output_type": "execute_result",
          "data": {
            "text/plain": [
              "              count         mean         std     min      25%     50%  \\\n",
              "Cylinders     314.0     5.477707    1.699788     3.0     4.00     4.0   \n",
              "Displacement  314.0   195.318471  104.331589    68.0   105.50   151.0   \n",
              "Horsepower    314.0   104.869427   38.096214    46.0    76.25    94.5   \n",
              "Weight        314.0  2990.251592  843.898596  1649.0  2256.50  2822.5   \n",
              "Acceleration  314.0    15.559236    2.789230     8.0    13.80    15.5   \n",
              "Model Year    314.0    75.898089    3.675642    70.0    73.00    76.0   \n",
              "Europe        314.0     0.178344    0.383413     0.0     0.00     0.0   \n",
              "Japan         314.0     0.197452    0.398712     0.0     0.00     0.0   \n",
              "USA           314.0     0.624204    0.485101     0.0     0.00     1.0   \n",
              "\n",
              "                  75%     max  \n",
              "Cylinders        8.00     8.0  \n",
              "Displacement   265.75   455.0  \n",
              "Horsepower     128.00   225.0  \n",
              "Weight        3608.00  5140.0  \n",
              "Acceleration    17.20    24.8  \n",
              "Model Year      79.00    82.0  \n",
              "Europe           0.00     1.0  \n",
              "Japan            0.00     1.0  \n",
              "USA              1.00     1.0  "
            ],
            "text/html": [
              "\n",
              "  <div id=\"df-5e45506e-507f-451d-b704-e5ef0fcdc7d5\">\n",
              "    <div class=\"colab-df-container\">\n",
              "      <div>\n",
              "<style scoped>\n",
              "    .dataframe tbody tr th:only-of-type {\n",
              "        vertical-align: middle;\n",
              "    }\n",
              "\n",
              "    .dataframe tbody tr th {\n",
              "        vertical-align: top;\n",
              "    }\n",
              "\n",
              "    .dataframe thead th {\n",
              "        text-align: right;\n",
              "    }\n",
              "</style>\n",
              "<table border=\"1\" class=\"dataframe\">\n",
              "  <thead>\n",
              "    <tr style=\"text-align: right;\">\n",
              "      <th></th>\n",
              "      <th>count</th>\n",
              "      <th>mean</th>\n",
              "      <th>std</th>\n",
              "      <th>min</th>\n",
              "      <th>25%</th>\n",
              "      <th>50%</th>\n",
              "      <th>75%</th>\n",
              "      <th>max</th>\n",
              "    </tr>\n",
              "  </thead>\n",
              "  <tbody>\n",
              "    <tr>\n",
              "      <th>Cylinders</th>\n",
              "      <td>314.0</td>\n",
              "      <td>5.477707</td>\n",
              "      <td>1.699788</td>\n",
              "      <td>3.0</td>\n",
              "      <td>4.00</td>\n",
              "      <td>4.0</td>\n",
              "      <td>8.00</td>\n",
              "      <td>8.0</td>\n",
              "    </tr>\n",
              "    <tr>\n",
              "      <th>Displacement</th>\n",
              "      <td>314.0</td>\n",
              "      <td>195.318471</td>\n",
              "      <td>104.331589</td>\n",
              "      <td>68.0</td>\n",
              "      <td>105.50</td>\n",
              "      <td>151.0</td>\n",
              "      <td>265.75</td>\n",
              "      <td>455.0</td>\n",
              "    </tr>\n",
              "    <tr>\n",
              "      <th>Horsepower</th>\n",
              "      <td>314.0</td>\n",
              "      <td>104.869427</td>\n",
              "      <td>38.096214</td>\n",
              "      <td>46.0</td>\n",
              "      <td>76.25</td>\n",
              "      <td>94.5</td>\n",
              "      <td>128.00</td>\n",
              "      <td>225.0</td>\n",
              "    </tr>\n",
              "    <tr>\n",
              "      <th>Weight</th>\n",
              "      <td>314.0</td>\n",
              "      <td>2990.251592</td>\n",
              "      <td>843.898596</td>\n",
              "      <td>1649.0</td>\n",
              "      <td>2256.50</td>\n",
              "      <td>2822.5</td>\n",
              "      <td>3608.00</td>\n",
              "      <td>5140.0</td>\n",
              "    </tr>\n",
              "    <tr>\n",
              "      <th>Acceleration</th>\n",
              "      <td>314.0</td>\n",
              "      <td>15.559236</td>\n",
              "      <td>2.789230</td>\n",
              "      <td>8.0</td>\n",
              "      <td>13.80</td>\n",
              "      <td>15.5</td>\n",
              "      <td>17.20</td>\n",
              "      <td>24.8</td>\n",
              "    </tr>\n",
              "    <tr>\n",
              "      <th>Model Year</th>\n",
              "      <td>314.0</td>\n",
              "      <td>75.898089</td>\n",
              "      <td>3.675642</td>\n",
              "      <td>70.0</td>\n",
              "      <td>73.00</td>\n",
              "      <td>76.0</td>\n",
              "      <td>79.00</td>\n",
              "      <td>82.0</td>\n",
              "    </tr>\n",
              "    <tr>\n",
              "      <th>Europe</th>\n",
              "      <td>314.0</td>\n",
              "      <td>0.178344</td>\n",
              "      <td>0.383413</td>\n",
              "      <td>0.0</td>\n",
              "      <td>0.00</td>\n",
              "      <td>0.0</td>\n",
              "      <td>0.00</td>\n",
              "      <td>1.0</td>\n",
              "    </tr>\n",
              "    <tr>\n",
              "      <th>Japan</th>\n",
              "      <td>314.0</td>\n",
              "      <td>0.197452</td>\n",
              "      <td>0.398712</td>\n",
              "      <td>0.0</td>\n",
              "      <td>0.00</td>\n",
              "      <td>0.0</td>\n",
              "      <td>0.00</td>\n",
              "      <td>1.0</td>\n",
              "    </tr>\n",
              "    <tr>\n",
              "      <th>USA</th>\n",
              "      <td>314.0</td>\n",
              "      <td>0.624204</td>\n",
              "      <td>0.485101</td>\n",
              "      <td>0.0</td>\n",
              "      <td>0.00</td>\n",
              "      <td>1.0</td>\n",
              "      <td>1.00</td>\n",
              "      <td>1.0</td>\n",
              "    </tr>\n",
              "  </tbody>\n",
              "</table>\n",
              "</div>\n",
              "      <button class=\"colab-df-convert\" onclick=\"convertToInteractive('df-5e45506e-507f-451d-b704-e5ef0fcdc7d5')\"\n",
              "              title=\"Convert this dataframe to an interactive table.\"\n",
              "              style=\"display:none;\">\n",
              "        \n",
              "  <svg xmlns=\"http://www.w3.org/2000/svg\" height=\"24px\"viewBox=\"0 0 24 24\"\n",
              "       width=\"24px\">\n",
              "    <path d=\"M0 0h24v24H0V0z\" fill=\"none\"/>\n",
              "    <path d=\"M18.56 5.44l.94 2.06.94-2.06 2.06-.94-2.06-.94-.94-2.06-.94 2.06-2.06.94zm-11 1L8.5 8.5l.94-2.06 2.06-.94-2.06-.94L8.5 2.5l-.94 2.06-2.06.94zm10 10l.94 2.06.94-2.06 2.06-.94-2.06-.94-.94-2.06-.94 2.06-2.06.94z\"/><path d=\"M17.41 7.96l-1.37-1.37c-.4-.4-.92-.59-1.43-.59-.52 0-1.04.2-1.43.59L10.3 9.45l-7.72 7.72c-.78.78-.78 2.05 0 2.83L4 21.41c.39.39.9.59 1.41.59.51 0 1.02-.2 1.41-.59l7.78-7.78 2.81-2.81c.8-.78.8-2.07 0-2.86zM5.41 20L4 18.59l7.72-7.72 1.47 1.35L5.41 20z\"/>\n",
              "  </svg>\n",
              "      </button>\n",
              "      \n",
              "  <style>\n",
              "    .colab-df-container {\n",
              "      display:flex;\n",
              "      flex-wrap:wrap;\n",
              "      gap: 12px;\n",
              "    }\n",
              "\n",
              "    .colab-df-convert {\n",
              "      background-color: #E8F0FE;\n",
              "      border: none;\n",
              "      border-radius: 50%;\n",
              "      cursor: pointer;\n",
              "      display: none;\n",
              "      fill: #1967D2;\n",
              "      height: 32px;\n",
              "      padding: 0 0 0 0;\n",
              "      width: 32px;\n",
              "    }\n",
              "\n",
              "    .colab-df-convert:hover {\n",
              "      background-color: #E2EBFA;\n",
              "      box-shadow: 0px 1px 2px rgba(60, 64, 67, 0.3), 0px 1px 3px 1px rgba(60, 64, 67, 0.15);\n",
              "      fill: #174EA6;\n",
              "    }\n",
              "\n",
              "    [theme=dark] .colab-df-convert {\n",
              "      background-color: #3B4455;\n",
              "      fill: #D2E3FC;\n",
              "    }\n",
              "\n",
              "    [theme=dark] .colab-df-convert:hover {\n",
              "      background-color: #434B5C;\n",
              "      box-shadow: 0px 1px 3px 1px rgba(0, 0, 0, 0.15);\n",
              "      filter: drop-shadow(0px 1px 2px rgba(0, 0, 0, 0.3));\n",
              "      fill: #FFFFFF;\n",
              "    }\n",
              "  </style>\n",
              "\n",
              "      <script>\n",
              "        const buttonEl =\n",
              "          document.querySelector('#df-5e45506e-507f-451d-b704-e5ef0fcdc7d5 button.colab-df-convert');\n",
              "        buttonEl.style.display =\n",
              "          google.colab.kernel.accessAllowed ? 'block' : 'none';\n",
              "\n",
              "        async function convertToInteractive(key) {\n",
              "          const element = document.querySelector('#df-5e45506e-507f-451d-b704-e5ef0fcdc7d5');\n",
              "          const dataTable =\n",
              "            await google.colab.kernel.invokeFunction('convertToInteractive',\n",
              "                                                     [key], {});\n",
              "          if (!dataTable) return;\n",
              "\n",
              "          const docLinkHtml = 'Like what you see? Visit the ' +\n",
              "            '<a target=\"_blank\" href=https://colab.research.google.com/notebooks/data_table.ipynb>data table notebook</a>'\n",
              "            + ' to learn more about interactive tables.';\n",
              "          element.innerHTML = '';\n",
              "          dataTable['output_type'] = 'display_data';\n",
              "          await google.colab.output.renderOutput(dataTable, element);\n",
              "          const docLink = document.createElement('div');\n",
              "          docLink.innerHTML = docLinkHtml;\n",
              "          element.appendChild(docLink);\n",
              "        }\n",
              "      </script>\n",
              "    </div>\n",
              "  </div>\n",
              "  "
            ]
          },
          "metadata": {},
          "execution_count": 9
        }
      ],
      "source": [
        "train_stats = train_stats.transpose()\n",
        "train_stats"
      ]
    },
    {
      "cell_type": "markdown",
      "metadata": {
        "id": "Db7Auq1yXUvh"
      },
      "source": [
        "### Izdvajanje ciljne promenljive\n",
        "\n",
        "Iz podataka izdvajamo ciljnu promenljivu `MPG` ([miles per gallon](https://www.carwow.co.uk/guides/running/what-is-mpg-0255))."
      ]
    },
    {
      "cell_type": "code",
      "execution_count": 10,
      "metadata": {
        "colab": {
          "base_uri": "https://localhost:8080/"
        },
        "id": "t2sluJdCW7jN",
        "outputId": "2a3966ab-41d9-4e62-ae91-345cb2a477b9"
      },
      "outputs": [
        {
          "output_type": "execute_result",
          "data": {
            "text/plain": [
              "146    28.0\n",
              "282    22.3\n",
              "69     12.0\n",
              "378    38.0\n",
              "331    33.8\n",
              "Name: MPG, dtype: float64"
            ]
          },
          "metadata": {},
          "execution_count": 10
        }
      ],
      "source": [
        "train_labels = train_dataset.pop('MPG')\n",
        "test_labels = test_dataset.pop('MPG')\n",
        "train_labels.head()"
      ]
    },
    {
      "cell_type": "code",
      "source": [
        "test_labels.head()"
      ],
      "metadata": {
        "colab": {
          "base_uri": "https://localhost:8080/"
        },
        "id": "aKt_9c8PmvaX",
        "outputId": "09ec1433-1fe4-4a35-abc7-a3391c3b4f6a"
      },
      "execution_count": 11,
      "outputs": [
        {
          "output_type": "execute_result",
          "data": {
            "text/plain": [
              "9     15.0\n",
              "25    10.0\n",
              "28     9.0\n",
              "31    25.0\n",
              "33    19.0\n",
              "Name: MPG, dtype: float64"
            ]
          },
          "metadata": {},
          "execution_count": 11
        }
      ]
    },
    {
      "cell_type": "markdown",
      "metadata": {
        "id": "mRklxK5s388r"
      },
      "source": [
        "### Standardizacija podataka\n",
        "\n",
        "Naši podaci su na različitim skalama pa ima smisla izvršiti njihovu\n",
        "standardizaciju. Model može da radi i bez ovoga ali se otežava njegova\n",
        "optimizacija kao i uvodi zavisnost o različitim skalama merenja."
      ]
    },
    {
      "cell_type": "code",
      "execution_count": 12,
      "metadata": {
        "id": "JlC5ooJrgjQF"
      },
      "outputs": [],
      "source": [
        "def norm(x):\n",
        "  return (x - train_stats['mean']) / train_stats['std']\n",
        "normed_train_data = norm(train_dataset)\n",
        "normed_test_data = norm(test_dataset)"
      ]
    },
    {
      "cell_type": "markdown",
      "metadata": {
        "id": "-ywmerQ6dSox"
      },
      "source": [
        "VAŽNO: Primetite da prosek i standardnu devijaciju koristimo iz skupa\n",
        "za obučavanje i kada vršimo standardizaciju podataka za trening \n",
        "**i** testiranje. Ovo je važno jer ne želimo da informacije iz skupa\n",
        "podataka za testiranje koristimo na bilo koji način prilikom obučavanja\n",
        "modela jer time uvodimo pristrasnost koja vodi preprilagođavanju."
      ]
    },
    {
      "cell_type": "markdown",
      "metadata": {
        "id": "SmjdzxKzEu1-"
      },
      "source": [
        "## Regresioni model"
      ]
    },
    {
      "cell_type": "markdown",
      "metadata": {
        "id": "6SWtkIjhrZwa"
      },
      "source": [
        "### Definicija modela\n",
        "\n",
        "Vreme je da definišemo naš model. Koristićemo `Sequential` model\n",
        "koji će predstavljati jednu neuronsku mrežu sa propagacijom unapred.\n",
        "Na izlazu ove mreže će biti neuron koji će davati ocenu atributa\n",
        "`MPG`.\n",
        "\n",
        "Kao funkciju greške koristićemo srednje-kvadratnu grešku\n",
        "(eng. mean squared error).\n",
        "\n",
        "Osim `Adam` optimizatora postoje razni drugi. Više o ovim stvarima na kursu\n",
        "*Mašinsko učenje* na master studijama. Radi ilustracije, ovde će biti\n",
        "korišćen `RMSprop` optimizator."
      ]
    },
    {
      "cell_type": "code",
      "execution_count": 13,
      "metadata": {
        "id": "c26juK7ZG8j-"
      },
      "outputs": [],
      "source": [
        "def build_model():\n",
        "  model = keras.Sequential([\n",
        "    layers.Dense(64, activation='relu', input_dim = normed_train_data.shape[1]),\n",
        "    layers.Dense(64, activation='relu'),\n",
        "    layers.Dense(1)\n",
        "  ])\n",
        "\n",
        "  optimizer = tf.keras.optimizers.RMSprop(0.001)\n",
        "\n",
        "  model.compile(loss='mse',\n",
        "                optimizer=optimizer,\n",
        "                metrics=['mae', 'mse'])\n",
        "  return model"
      ]
    },
    {
      "cell_type": "code",
      "source": [
        "model = build_model()"
      ],
      "metadata": {
        "id": "iDDMqI6Vq4GR"
      },
      "execution_count": 14,
      "outputs": []
    },
    {
      "cell_type": "markdown",
      "metadata": {
        "id": "Vt6W50qGsJAL"
      },
      "source": [
        "Možemo isprobati model. Uzećemo podskup od 10 primera iz skupa za obučavanje\n",
        "i propustiti ih kroz mrežu.\n"
      ]
    },
    {
      "cell_type": "code",
      "execution_count": 15,
      "metadata": {
        "colab": {
          "base_uri": "https://localhost:8080/"
        },
        "id": "-d-gBaVtGTSC",
        "outputId": "8ba36cf7-95a1-492e-cd41-370deae25216"
      },
      "outputs": [
        {
          "output_type": "execute_result",
          "data": {
            "text/plain": [
              "array([[-0.36990806],\n",
              "       [-0.09745099],\n",
              "       [-0.02965406],\n",
              "       [-0.12800455],\n",
              "       [ 0.3401093 ],\n",
              "       [ 0.05247471],\n",
              "       [ 0.3459404 ],\n",
              "       [ 0.310038  ],\n",
              "       [ 0.00039633],\n",
              "       [ 0.2964378 ]], dtype=float32)"
            ]
          },
          "metadata": {},
          "execution_count": 15
        }
      ],
      "source": [
        "example_batch = normed_train_data[:10]\n",
        "example_result = model.predict(example_batch)\n",
        "example_result"
      ]
    },
    {
      "cell_type": "code",
      "execution_count": 16,
      "metadata": {
        "colab": {
          "base_uri": "https://localhost:8080/"
        },
        "id": "MLJ4i_UyeY0f",
        "outputId": "510d9322-3e9b-4895-e20a-ea8a86457062"
      },
      "outputs": [
        {
          "output_type": "execute_result",
          "data": {
            "text/plain": [
              "(10, 1)"
            ]
          },
          "metadata": {},
          "execution_count": 16
        }
      ],
      "source": [
        "example_result.shape"
      ]
    },
    {
      "cell_type": "markdown",
      "metadata": {
        "id": "0-qWCsh6DlyH"
      },
      "source": [
        "### Obučavanje modela\n",
        "\n",
        "Skup za obučavanje ćemo podeliti na dva nova skupa, jedan će biti skup\n",
        "na kome će se zapravo vršiti obučavanje (80% originalnog skupa za obučavanje),\n",
        "a validacioni skup ćemo koristiti da na kraju svake epohe evaluiramo\n",
        "koliko je dobar naš model.\n",
        "\n",
        "Obučavaćemo model 100\n",
        " epoha i čuvaćemo tačnost na podacima za\n",
        "obučavanje i validaciju tokom treninga. Funkcija `fit` vraća\n",
        "objekat koji sadrži neophodne podatke.\n"
      ]
    },
    {
      "cell_type": "code",
      "execution_count": 17,
      "metadata": {
        "colab": {
          "base_uri": "https://localhost:8080/"
        },
        "id": "sD7qHCmNIOY0",
        "outputId": "8e172baa-0ff3-4d9d-903a-8770a4c1b7f3"
      },
      "outputs": [
        {
          "output_type": "stream",
          "name": "stdout",
          "text": [
            "Epoch 1/100\n",
            "8/8 [==============================] - 1s 48ms/step - loss: 565.7773 - mae: 22.5500 - mse: 565.7773 - val_loss: 554.4411 - val_mae: 22.2954 - val_mse: 554.4411\n",
            "Epoch 2/100\n",
            "8/8 [==============================] - 0s 15ms/step - loss: 515.1789 - mae: 21.4523 - mse: 515.1789 - val_loss: 502.7897 - val_mae: 21.1608 - val_mse: 502.7897\n",
            "Epoch 3/100\n",
            "8/8 [==============================] - 0s 11ms/step - loss: 466.0961 - mae: 20.3394 - mse: 466.0961 - val_loss: 446.4532 - val_mae: 19.8404 - val_mse: 446.4532\n",
            "Epoch 4/100\n",
            "8/8 [==============================] - 0s 10ms/step - loss: 411.9848 - mae: 19.0177 - mse: 411.9848 - val_loss: 384.8663 - val_mae: 18.2896 - val_mse: 384.8663\n",
            "Epoch 5/100\n",
            "8/8 [==============================] - 0s 14ms/step - loss: 354.6589 - mae: 17.5162 - mse: 354.6589 - val_loss: 321.9256 - val_mae: 16.5493 - val_mse: 321.9256\n",
            "Epoch 6/100\n",
            "8/8 [==============================] - 0s 9ms/step - loss: 296.0324 - mae: 15.8429 - mse: 296.0324 - val_loss: 259.5166 - val_mae: 14.6074 - val_mse: 259.5166\n",
            "Epoch 7/100\n",
            "8/8 [==============================] - 0s 15ms/step - loss: 239.4504 - mae: 13.9991 - mse: 239.4504 - val_loss: 200.7409 - val_mae: 12.5659 - val_mse: 200.7409\n",
            "Epoch 8/100\n",
            "8/8 [==============================] - 0s 9ms/step - loss: 186.5153 - mae: 12.0936 - mse: 186.5153 - val_loss: 150.1684 - val_mae: 10.5940 - val_mse: 150.1684\n",
            "Epoch 9/100\n",
            "8/8 [==============================] - 0s 11ms/step - loss: 141.3462 - mae: 10.2489 - mse: 141.3462 - val_loss: 109.6658 - val_mae: 8.8847 - val_mse: 109.6658\n",
            "Epoch 10/100\n",
            "8/8 [==============================] - 0s 10ms/step - loss: 105.1467 - mae: 8.5520 - mse: 105.1467 - val_loss: 80.2643 - val_mae: 7.5152 - val_mse: 80.2643\n",
            "Epoch 11/100\n",
            "8/8 [==============================] - 0s 14ms/step - loss: 78.9891 - mae: 7.0790 - mse: 78.9891 - val_loss: 61.9104 - val_mae: 6.4945 - val_mse: 61.9104\n",
            "Epoch 12/100\n",
            "8/8 [==============================] - 0s 14ms/step - loss: 61.2173 - mae: 6.1698 - mse: 61.2173 - val_loss: 50.9587 - val_mae: 5.9061 - val_mse: 50.9587\n",
            "Epoch 13/100\n",
            "8/8 [==============================] - 0s 12ms/step - loss: 48.6883 - mae: 5.5270 - mse: 48.6883 - val_loss: 43.5886 - val_mae: 5.4660 - val_mse: 43.5886\n",
            "Epoch 14/100\n",
            "8/8 [==============================] - 0s 21ms/step - loss: 39.2739 - mae: 4.9952 - mse: 39.2739 - val_loss: 37.4541 - val_mae: 5.0735 - val_mse: 37.4541\n",
            "Epoch 15/100\n",
            "8/8 [==============================] - 0s 9ms/step - loss: 31.9600 - mae: 4.5117 - mse: 31.9600 - val_loss: 31.8836 - val_mae: 4.6683 - val_mse: 31.8836\n",
            "Epoch 16/100\n",
            "8/8 [==============================] - 0s 13ms/step - loss: 25.9715 - mae: 4.0516 - mse: 25.9715 - val_loss: 27.4170 - val_mae: 4.2646 - val_mse: 27.4170\n",
            "Epoch 17/100\n",
            "8/8 [==============================] - 0s 9ms/step - loss: 21.6238 - mae: 3.6545 - mse: 21.6238 - val_loss: 24.1382 - val_mae: 3.9152 - val_mse: 24.1382\n",
            "Epoch 18/100\n",
            "8/8 [==============================] - 0s 11ms/step - loss: 18.3877 - mae: 3.3349 - mse: 18.3877 - val_loss: 21.5182 - val_mae: 3.6456 - val_mse: 21.5182\n",
            "Epoch 19/100\n",
            "8/8 [==============================] - 0s 18ms/step - loss: 16.0632 - mae: 3.1237 - mse: 16.0632 - val_loss: 19.2172 - val_mae: 3.4355 - val_mse: 19.2172\n",
            "Epoch 20/100\n",
            "8/8 [==============================] - 0s 10ms/step - loss: 14.3937 - mae: 2.9182 - mse: 14.3937 - val_loss: 17.5750 - val_mae: 3.2123 - val_mse: 17.5750\n",
            "Epoch 21/100\n",
            "8/8 [==============================] - 0s 14ms/step - loss: 13.3556 - mae: 2.7669 - mse: 13.3556 - val_loss: 15.9611 - val_mae: 3.0684 - val_mse: 15.9611\n",
            "Epoch 22/100\n",
            "8/8 [==============================] - 0s 12ms/step - loss: 12.0631 - mae: 2.6227 - mse: 12.0631 - val_loss: 14.7378 - val_mae: 2.9202 - val_mse: 14.7378\n",
            "Epoch 23/100\n",
            "8/8 [==============================] - 0s 11ms/step - loss: 11.4314 - mae: 2.5070 - mse: 11.4314 - val_loss: 13.9153 - val_mae: 2.8402 - val_mse: 13.9153\n",
            "Epoch 24/100\n",
            "8/8 [==============================] - 0s 10ms/step - loss: 10.9653 - mae: 2.4232 - mse: 10.9653 - val_loss: 12.9260 - val_mae: 2.7657 - val_mse: 12.9260\n",
            "Epoch 25/100\n",
            "8/8 [==============================] - 0s 16ms/step - loss: 10.3803 - mae: 2.3571 - mse: 10.3803 - val_loss: 12.2070 - val_mae: 2.6427 - val_mse: 12.2070\n",
            "Epoch 26/100\n",
            "8/8 [==============================] - 0s 12ms/step - loss: 9.8263 - mae: 2.2685 - mse: 9.8263 - val_loss: 11.5867 - val_mae: 2.6195 - val_mse: 11.5867\n",
            "Epoch 27/100\n",
            "8/8 [==============================] - 0s 8ms/step - loss: 9.8203 - mae: 2.2725 - mse: 9.8203 - val_loss: 11.3366 - val_mae: 2.5109 - val_mse: 11.3366\n",
            "Epoch 28/100\n",
            "8/8 [==============================] - 0s 9ms/step - loss: 9.5087 - mae: 2.2083 - mse: 9.5087 - val_loss: 11.0608 - val_mae: 2.4871 - val_mse: 11.0608\n",
            "Epoch 29/100\n",
            "8/8 [==============================] - 0s 8ms/step - loss: 9.2905 - mae: 2.1735 - mse: 9.2905 - val_loss: 10.7080 - val_mae: 2.4651 - val_mse: 10.7080\n",
            "Epoch 30/100\n",
            "8/8 [==============================] - 0s 11ms/step - loss: 9.0324 - mae: 2.1089 - mse: 9.0324 - val_loss: 10.6512 - val_mae: 2.4842 - val_mse: 10.6512\n",
            "Epoch 31/100\n",
            "8/8 [==============================] - 0s 12ms/step - loss: 8.7494 - mae: 2.0977 - mse: 8.7494 - val_loss: 10.5159 - val_mae: 2.3924 - val_mse: 10.5159\n",
            "Epoch 32/100\n",
            "8/8 [==============================] - 0s 9ms/step - loss: 9.0293 - mae: 2.1204 - mse: 9.0293 - val_loss: 10.2010 - val_mae: 2.3724 - val_mse: 10.2010\n",
            "Epoch 33/100\n",
            "8/8 [==============================] - 0s 17ms/step - loss: 8.5943 - mae: 2.0729 - mse: 8.5943 - val_loss: 10.3604 - val_mae: 2.3684 - val_mse: 10.3604\n",
            "Epoch 34/100\n",
            "8/8 [==============================] - 0s 16ms/step - loss: 8.5627 - mae: 2.0622 - mse: 8.5627 - val_loss: 10.1278 - val_mae: 2.3823 - val_mse: 10.1278\n",
            "Epoch 35/100\n",
            "8/8 [==============================] - 0s 8ms/step - loss: 8.1196 - mae: 2.0219 - mse: 8.1196 - val_loss: 10.4328 - val_mae: 2.5051 - val_mse: 10.4328\n",
            "Epoch 36/100\n",
            "8/8 [==============================] - 0s 10ms/step - loss: 8.4652 - mae: 2.0433 - mse: 8.4652 - val_loss: 9.8588 - val_mae: 2.3547 - val_mse: 9.8588\n",
            "Epoch 37/100\n",
            "8/8 [==============================] - 0s 11ms/step - loss: 8.0901 - mae: 1.9998 - mse: 8.0901 - val_loss: 9.9169 - val_mae: 2.3122 - val_mse: 9.9169\n",
            "Epoch 38/100\n",
            "8/8 [==============================] - 0s 8ms/step - loss: 8.0910 - mae: 2.0294 - mse: 8.0910 - val_loss: 9.6698 - val_mae: 2.3048 - val_mse: 9.6698\n",
            "Epoch 39/100\n",
            "8/8 [==============================] - 0s 15ms/step - loss: 8.0534 - mae: 2.0436 - mse: 8.0534 - val_loss: 9.6120 - val_mae: 2.3211 - val_mse: 9.6120\n",
            "Epoch 40/100\n",
            "8/8 [==============================] - 0s 10ms/step - loss: 7.8032 - mae: 1.9887 - mse: 7.8032 - val_loss: 9.7750 - val_mae: 2.3047 - val_mse: 9.7750\n",
            "Epoch 41/100\n",
            "8/8 [==============================] - 0s 14ms/step - loss: 7.9042 - mae: 1.9927 - mse: 7.9042 - val_loss: 9.7119 - val_mae: 2.2697 - val_mse: 9.7119\n",
            "Epoch 42/100\n",
            "8/8 [==============================] - 0s 9ms/step - loss: 7.5936 - mae: 1.9815 - mse: 7.5936 - val_loss: 9.5450 - val_mae: 2.3313 - val_mse: 9.5450\n",
            "Epoch 43/100\n",
            "8/8 [==============================] - 0s 10ms/step - loss: 7.4626 - mae: 1.9179 - mse: 7.4626 - val_loss: 10.2419 - val_mae: 2.3130 - val_mse: 10.2419\n",
            "Epoch 44/100\n",
            "8/8 [==============================] - 0s 10ms/step - loss: 7.6124 - mae: 1.9491 - mse: 7.6124 - val_loss: 9.5559 - val_mae: 2.2393 - val_mse: 9.5559\n",
            "Epoch 45/100\n",
            "8/8 [==============================] - 0s 9ms/step - loss: 7.5384 - mae: 1.9632 - mse: 7.5384 - val_loss: 9.4326 - val_mae: 2.2675 - val_mse: 9.4326\n",
            "Epoch 46/100\n",
            "8/8 [==============================] - 0s 9ms/step - loss: 7.5240 - mae: 1.9145 - mse: 7.5240 - val_loss: 9.0579 - val_mae: 2.2602 - val_mse: 9.0579\n",
            "Epoch 47/100\n",
            "8/8 [==============================] - 0s 20ms/step - loss: 7.4392 - mae: 1.9311 - mse: 7.4392 - val_loss: 9.2784 - val_mae: 2.2193 - val_mse: 9.2784\n",
            "Epoch 48/100\n",
            "8/8 [==============================] - 0s 17ms/step - loss: 7.4820 - mae: 1.9502 - mse: 7.4820 - val_loss: 9.0420 - val_mae: 2.2467 - val_mse: 9.0420\n",
            "Epoch 49/100\n",
            "8/8 [==============================] - 0s 17ms/step - loss: 7.2730 - mae: 1.9076 - mse: 7.2730 - val_loss: 9.0622 - val_mae: 2.2575 - val_mse: 9.0622\n",
            "Epoch 50/100\n",
            "8/8 [==============================] - 0s 17ms/step - loss: 7.3786 - mae: 1.9350 - mse: 7.3786 - val_loss: 9.0889 - val_mae: 2.2671 - val_mse: 9.0889\n",
            "Epoch 51/100\n",
            "8/8 [==============================] - 0s 16ms/step - loss: 7.1631 - mae: 1.9259 - mse: 7.1631 - val_loss: 9.3047 - val_mae: 2.2721 - val_mse: 9.3047\n",
            "Epoch 52/100\n",
            "8/8 [==============================] - 0s 15ms/step - loss: 7.5930 - mae: 1.9441 - mse: 7.5930 - val_loss: 9.2104 - val_mae: 2.2526 - val_mse: 9.2104\n",
            "Epoch 53/100\n",
            "8/8 [==============================] - 0s 18ms/step - loss: 7.2473 - mae: 1.9092 - mse: 7.2473 - val_loss: 9.0736 - val_mae: 2.2715 - val_mse: 9.0736\n",
            "Epoch 54/100\n",
            "8/8 [==============================] - 0s 24ms/step - loss: 7.0448 - mae: 1.8864 - mse: 7.0448 - val_loss: 9.0997 - val_mae: 2.2172 - val_mse: 9.0997\n",
            "Epoch 55/100\n",
            "8/8 [==============================] - 0s 14ms/step - loss: 6.9795 - mae: 1.8975 - mse: 6.9795 - val_loss: 9.0975 - val_mae: 2.2711 - val_mse: 9.0975\n",
            "Epoch 56/100\n",
            "8/8 [==============================] - 0s 14ms/step - loss: 7.2148 - mae: 1.9118 - mse: 7.2148 - val_loss: 8.8238 - val_mae: 2.1874 - val_mse: 8.8238\n",
            "Epoch 57/100\n",
            "8/8 [==============================] - 0s 13ms/step - loss: 7.1517 - mae: 1.8879 - mse: 7.1517 - val_loss: 8.7807 - val_mae: 2.2007 - val_mse: 8.7807\n",
            "Epoch 58/100\n",
            "8/8 [==============================] - 0s 17ms/step - loss: 6.9391 - mae: 1.8518 - mse: 6.9391 - val_loss: 9.3516 - val_mae: 2.2051 - val_mse: 9.3516\n",
            "Epoch 59/100\n",
            "8/8 [==============================] - 0s 14ms/step - loss: 6.9824 - mae: 1.8508 - mse: 6.9824 - val_loss: 8.8256 - val_mae: 2.1835 - val_mse: 8.8256\n",
            "Epoch 60/100\n",
            "8/8 [==============================] - 0s 17ms/step - loss: 6.9688 - mae: 1.9087 - mse: 6.9688 - val_loss: 9.0177 - val_mae: 2.1844 - val_mse: 9.0177\n",
            "Epoch 61/100\n",
            "8/8 [==============================] - 0s 15ms/step - loss: 7.0198 - mae: 1.8975 - mse: 7.0198 - val_loss: 9.0183 - val_mae: 2.1852 - val_mse: 9.0183\n",
            "Epoch 62/100\n",
            "8/8 [==============================] - 0s 18ms/step - loss: 6.8262 - mae: 1.8754 - mse: 6.8262 - val_loss: 8.7670 - val_mae: 2.2030 - val_mse: 8.7670\n",
            "Epoch 63/100\n",
            "8/8 [==============================] - 0s 20ms/step - loss: 6.9992 - mae: 1.8792 - mse: 6.9992 - val_loss: 8.8961 - val_mae: 2.1777 - val_mse: 8.8961\n",
            "Epoch 64/100\n",
            "8/8 [==============================] - 0s 18ms/step - loss: 6.8700 - mae: 1.8617 - mse: 6.8700 - val_loss: 8.7601 - val_mae: 2.2087 - val_mse: 8.7601\n",
            "Epoch 65/100\n",
            "8/8 [==============================] - 0s 15ms/step - loss: 6.8917 - mae: 1.8616 - mse: 6.8917 - val_loss: 9.1556 - val_mae: 2.1877 - val_mse: 9.1556\n",
            "Epoch 66/100\n",
            "8/8 [==============================] - 0s 14ms/step - loss: 6.8101 - mae: 1.8789 - mse: 6.8101 - val_loss: 8.9308 - val_mae: 2.2180 - val_mse: 8.9308\n",
            "Epoch 67/100\n",
            "8/8 [==============================] - 0s 13ms/step - loss: 6.7462 - mae: 1.8296 - mse: 6.7462 - val_loss: 8.7267 - val_mae: 2.1726 - val_mse: 8.7267\n",
            "Epoch 68/100\n",
            "8/8 [==============================] - 0s 24ms/step - loss: 6.8108 - mae: 1.8574 - mse: 6.8108 - val_loss: 8.6599 - val_mae: 2.1856 - val_mse: 8.6599\n",
            "Epoch 69/100\n",
            "8/8 [==============================] - 0s 20ms/step - loss: 6.8650 - mae: 1.8599 - mse: 6.8650 - val_loss: 8.8101 - val_mae: 2.2663 - val_mse: 8.8101\n",
            "Epoch 70/100\n",
            "8/8 [==============================] - 0s 19ms/step - loss: 6.8940 - mae: 1.8282 - mse: 6.8940 - val_loss: 8.6524 - val_mae: 2.1716 - val_mse: 8.6524\n",
            "Epoch 71/100\n",
            "8/8 [==============================] - 0s 16ms/step - loss: 6.6504 - mae: 1.8466 - mse: 6.6504 - val_loss: 8.8272 - val_mae: 2.2542 - val_mse: 8.8272\n",
            "Epoch 72/100\n",
            "8/8 [==============================] - 0s 13ms/step - loss: 6.9311 - mae: 1.8571 - mse: 6.9311 - val_loss: 8.8138 - val_mae: 2.2302 - val_mse: 8.8138\n",
            "Epoch 73/100\n",
            "8/8 [==============================] - 0s 25ms/step - loss: 6.6406 - mae: 1.8042 - mse: 6.6406 - val_loss: 8.6896 - val_mae: 2.1830 - val_mse: 8.6896\n",
            "Epoch 74/100\n",
            "8/8 [==============================] - 0s 24ms/step - loss: 6.5432 - mae: 1.8080 - mse: 6.5432 - val_loss: 8.7534 - val_mae: 2.2349 - val_mse: 8.7534\n",
            "Epoch 75/100\n",
            "8/8 [==============================] - 0s 25ms/step - loss: 6.5390 - mae: 1.8205 - mse: 6.5390 - val_loss: 9.3298 - val_mae: 2.4129 - val_mse: 9.3298\n",
            "Epoch 76/100\n",
            "8/8 [==============================] - 0s 21ms/step - loss: 6.7496 - mae: 1.8162 - mse: 6.7496 - val_loss: 8.6657 - val_mae: 2.2152 - val_mse: 8.6657\n",
            "Epoch 77/100\n",
            "8/8 [==============================] - 0s 17ms/step - loss: 6.6350 - mae: 1.7967 - mse: 6.6350 - val_loss: 8.6717 - val_mae: 2.1863 - val_mse: 8.6717\n",
            "Epoch 78/100\n",
            "8/8 [==============================] - 0s 11ms/step - loss: 6.5926 - mae: 1.8100 - mse: 6.5926 - val_loss: 8.5937 - val_mae: 2.1710 - val_mse: 8.5937\n",
            "Epoch 79/100\n",
            "8/8 [==============================] - 0s 16ms/step - loss: 6.5998 - mae: 1.7852 - mse: 6.5998 - val_loss: 8.7160 - val_mae: 2.1640 - val_mse: 8.7160\n",
            "Epoch 80/100\n",
            "8/8 [==============================] - 0s 26ms/step - loss: 6.5411 - mae: 1.7940 - mse: 6.5411 - val_loss: 8.5517 - val_mae: 2.2124 - val_mse: 8.5517\n",
            "Epoch 81/100\n",
            "8/8 [==============================] - 0s 16ms/step - loss: 6.7683 - mae: 1.8528 - mse: 6.7683 - val_loss: 8.7942 - val_mae: 2.2974 - val_mse: 8.7942\n",
            "Epoch 82/100\n",
            "8/8 [==============================] - 0s 16ms/step - loss: 6.4755 - mae: 1.7845 - mse: 6.4755 - val_loss: 8.3362 - val_mae: 2.1787 - val_mse: 8.3362\n",
            "Epoch 83/100\n",
            "8/8 [==============================] - 0s 20ms/step - loss: 6.4103 - mae: 1.8081 - mse: 6.4103 - val_loss: 9.0262 - val_mae: 2.3710 - val_mse: 9.0262\n",
            "Epoch 84/100\n",
            "8/8 [==============================] - 0s 13ms/step - loss: 6.5577 - mae: 1.8038 - mse: 6.5577 - val_loss: 8.4353 - val_mae: 2.1717 - val_mse: 8.4353\n",
            "Epoch 85/100\n",
            "8/8 [==============================] - 0s 24ms/step - loss: 6.4346 - mae: 1.8001 - mse: 6.4346 - val_loss: 8.5733 - val_mae: 2.1571 - val_mse: 8.5733\n",
            "Epoch 86/100\n",
            "8/8 [==============================] - 0s 21ms/step - loss: 6.4359 - mae: 1.8140 - mse: 6.4359 - val_loss: 8.6414 - val_mae: 2.2617 - val_mse: 8.6414\n",
            "Epoch 87/100\n",
            "8/8 [==============================] - 0s 21ms/step - loss: 6.6130 - mae: 1.7984 - mse: 6.6130 - val_loss: 8.5889 - val_mae: 2.1783 - val_mse: 8.5889\n",
            "Epoch 88/100\n",
            "8/8 [==============================] - 0s 15ms/step - loss: 6.3515 - mae: 1.7706 - mse: 6.3515 - val_loss: 8.4619 - val_mae: 2.1840 - val_mse: 8.4619\n",
            "Epoch 89/100\n",
            "8/8 [==============================] - 0s 19ms/step - loss: 6.4395 - mae: 1.8051 - mse: 6.4395 - val_loss: 8.4328 - val_mae: 2.1903 - val_mse: 8.4328\n",
            "Epoch 90/100\n",
            "8/8 [==============================] - 0s 25ms/step - loss: 6.4248 - mae: 1.7981 - mse: 6.4248 - val_loss: 8.4330 - val_mae: 2.2174 - val_mse: 8.4330\n",
            "Epoch 91/100\n",
            "8/8 [==============================] - 0s 19ms/step - loss: 6.4069 - mae: 1.8052 - mse: 6.4069 - val_loss: 8.4266 - val_mae: 2.1664 - val_mse: 8.4266\n",
            "Epoch 92/100\n",
            "8/8 [==============================] - 0s 13ms/step - loss: 6.3544 - mae: 1.7686 - mse: 6.3544 - val_loss: 8.4069 - val_mae: 2.1727 - val_mse: 8.4069\n",
            "Epoch 93/100\n",
            "8/8 [==============================] - 0s 10ms/step - loss: 6.4926 - mae: 1.7671 - mse: 6.4926 - val_loss: 8.4495 - val_mae: 2.1841 - val_mse: 8.4495\n",
            "Epoch 94/100\n",
            "8/8 [==============================] - 0s 13ms/step - loss: 6.2388 - mae: 1.7775 - mse: 6.2388 - val_loss: 8.4244 - val_mae: 2.1769 - val_mse: 8.4244\n",
            "Epoch 95/100\n",
            "8/8 [==============================] - 0s 11ms/step - loss: 6.3548 - mae: 1.7888 - mse: 6.3548 - val_loss: 8.3744 - val_mae: 2.1783 - val_mse: 8.3744\n",
            "Epoch 96/100\n",
            "8/8 [==============================] - 0s 18ms/step - loss: 6.2439 - mae: 1.7497 - mse: 6.2439 - val_loss: 8.4541 - val_mae: 2.2061 - val_mse: 8.4541\n",
            "Epoch 97/100\n",
            "8/8 [==============================] - 0s 20ms/step - loss: 6.2807 - mae: 1.7547 - mse: 6.2807 - val_loss: 8.3873 - val_mae: 2.1811 - val_mse: 8.3873\n",
            "Epoch 98/100\n",
            "8/8 [==============================] - 0s 25ms/step - loss: 6.4724 - mae: 1.8139 - mse: 6.4724 - val_loss: 8.7204 - val_mae: 2.3037 - val_mse: 8.7204\n",
            "Epoch 99/100\n",
            "8/8 [==============================] - 0s 21ms/step - loss: 6.4076 - mae: 1.7453 - mse: 6.4076 - val_loss: 8.2820 - val_mae: 2.1761 - val_mse: 8.2820\n",
            "Epoch 100/100\n",
            "8/8 [==============================] - 0s 21ms/step - loss: 6.0719 - mae: 1.7345 - mse: 6.0719 - val_loss: 8.5547 - val_mae: 2.2503 - val_mse: 8.5547\n"
          ]
        }
      ],
      "source": [
        "EPOCHS = 100\n",
        "\n",
        "history = model.fit(\n",
        "  normed_train_data, train_labels,\n",
        "  epochs=EPOCHS, validation_split = 0.2)"
      ]
    },
    {
      "cell_type": "code",
      "execution_count": 18,
      "metadata": {
        "colab": {
          "base_uri": "https://localhost:8080/",
          "height": 269
        },
        "id": "RGZCiXyyXYJa",
        "outputId": "926c5994-7597-4492-a08a-173fc87eb6e6"
      },
      "outputs": [
        {
          "output_type": "display_data",
          "data": {
            "text/plain": [
              "<Figure size 432x288 with 1 Axes>"
            ],
            "image/png": "[encoded data removed]"
          },
          "metadata": {
            "needs_background": "light"
          }
        }
      ],
      "source": [
        "plt.plot(history.epoch, history.history['mse'])\n",
        "plt.plot(history.epoch, history.history['val_mse'])\n",
        "plt.ylim([0, 12])\n",
        "plt.legend(['MSE', 'Val MSE'])\n",
        "plt.show()"
      ]
    },
    {
      "cell_type": "code",
      "execution_count": 19,
      "metadata": {
        "colab": {
          "base_uri": "https://localhost:8080/",
          "height": 269
        },
        "id": "eqWUq_DtX4O2",
        "outputId": "a62d0825-f3c0-4102-8652-e9b828edf248"
      },
      "outputs": [
        {
          "output_type": "display_data",
          "data": {
            "text/plain": [
              "<Figure size 432x288 with 1 Axes>"
            ],
            "image/png": "[encoded data removed]"
          },
          "metadata": {
            "needs_background": "light"
          }
        }
      ],
      "source": [
        "plt.plot(history.epoch, history.history['mae'])\n",
        "plt.plot(history.epoch, history.history['val_mae'])\n",
        "plt.ylim([0, 4])\n",
        "plt.legend(['Trening MSE', 'Validacioni MSE'])\n",
        "plt.show()"
      ]
    },
    {
      "cell_type": "markdown",
      "metadata": {
        "id": "tQm3pc0FYPQB"
      },
      "source": [
        "Dobijene podatke možemo vizuelizovati pomoću biblioteke `pandas`.\n",
        "`DataFrame` je `pandas` tip koji predstavlja tabelarne podatke."
      ]
    },
    {
      "cell_type": "code",
      "execution_count": 20,
      "metadata": {
        "colab": {
          "base_uri": "https://localhost:8080/",
          "height": 206
        },
        "id": "4Xj91b-dymEy",
        "outputId": "00b2a2cf-4c99-4dff-baec-c1032207007c"
      },
      "outputs": [
        {
          "output_type": "execute_result",
          "data": {
            "text/plain": [
              "        loss       mae       mse  val_loss   val_mae   val_mse  epoch\n",
              "95  6.243923  1.749683  6.243923  8.454068  2.206064  8.454068     95\n",
              "96  6.280717  1.754701  6.280717  8.387254  2.181073  8.387254     96\n",
              "97  6.472411  1.813883  6.472411  8.720399  2.303679  8.720399     97\n",
              "98  6.407638  1.745342  6.407638  8.282020  2.176103  8.282020     98\n",
              "99  6.071924  1.734501  6.071924  8.554684  2.250299  8.554684     99"
            ],
            "text/html": [
              "\n",
              "  <div id=\"df-a0f00151-eb6f-48ea-9874-8ad01c66e945\">\n",
              "    <div class=\"colab-df-container\">\n",
              "      <div>\n",
              "<style scoped>\n",
              "    .dataframe tbody tr th:only-of-type {\n",
              "        vertical-align: middle;\n",
              "    }\n",
              "\n",
              "    .dataframe tbody tr th {\n",
              "        vertical-align: top;\n",
              "    }\n",
              "\n",
              "    .dataframe thead th {\n",
              "        text-align: right;\n",
              "    }\n",
              "</style>\n",
              "<table border=\"1\" class=\"dataframe\">\n",
              "  <thead>\n",
              "    <tr style=\"text-align: right;\">\n",
              "      <th></th>\n",
              "      <th>loss</th>\n",
              "      <th>mae</th>\n",
              "      <th>mse</th>\n",
              "      <th>val_loss</th>\n",
              "      <th>val_mae</th>\n",
              "      <th>val_mse</th>\n",
              "      <th>epoch</th>\n",
              "    </tr>\n",
              "  </thead>\n",
              "  <tbody>\n",
              "    <tr>\n",
              "      <th>95</th>\n",
              "      <td>6.243923</td>\n",
              "      <td>1.749683</td>\n",
              "      <td>6.243923</td>\n",
              "      <td>8.454068</td>\n",
              "      <td>2.206064</td>\n",
              "      <td>8.454068</td>\n",
              "      <td>95</td>\n",
              "    </tr>\n",
              "    <tr>\n",
              "      <th>96</th>\n",
              "      <td>6.280717</td>\n",
              "      <td>1.754701</td>\n",
              "      <td>6.280717</td>\n",
              "      <td>8.387254</td>\n",
              "      <td>2.181073</td>\n",
              "      <td>8.387254</td>\n",
              "      <td>96</td>\n",
              "    </tr>\n",
              "    <tr>\n",
              "      <th>97</th>\n",
              "      <td>6.472411</td>\n",
              "      <td>1.813883</td>\n",
              "      <td>6.472411</td>\n",
              "      <td>8.720399</td>\n",
              "      <td>2.303679</td>\n",
              "      <td>8.720399</td>\n",
              "      <td>97</td>\n",
              "    </tr>\n",
              "    <tr>\n",
              "      <th>98</th>\n",
              "      <td>6.407638</td>\n",
              "      <td>1.745342</td>\n",
              "      <td>6.407638</td>\n",
              "      <td>8.282020</td>\n",
              "      <td>2.176103</td>\n",
              "      <td>8.282020</td>\n",
              "      <td>98</td>\n",
              "    </tr>\n",
              "    <tr>\n",
              "      <th>99</th>\n",
              "      <td>6.071924</td>\n",
              "      <td>1.734501</td>\n",
              "      <td>6.071924</td>\n",
              "      <td>8.554684</td>\n",
              "      <td>2.250299</td>\n",
              "      <td>8.554684</td>\n",
              "      <td>99</td>\n",
              "    </tr>\n",
              "  </tbody>\n",
              "</table>\n",
              "</div>\n",
              "      <button class=\"colab-df-convert\" onclick=\"convertToInteractive('df-a0f00151-eb6f-48ea-9874-8ad01c66e945')\"\n",
              "              title=\"Convert this dataframe to an interactive table.\"\n",
              "              style=\"display:none;\">\n",
              "        \n",
              "  <svg xmlns=\"http://www.w3.org/2000/svg\" height=\"24px\"viewBox=\"0 0 24 24\"\n",
              "       width=\"24px\">\n",
              "    <path d=\"M0 0h24v24H0V0z\" fill=\"none\"/>\n",
              "    <path d=\"M18.56 5.44l.94 2.06.94-2.06 2.06-.94-2.06-.94-.94-2.06-.94 2.06-2.06.94zm-11 1L8.5 8.5l.94-2.06 2.06-.94-2.06-.94L8.5 2.5l-.94 2.06-2.06.94zm10 10l.94 2.06.94-2.06 2.06-.94-2.06-.94-.94-2.06-.94 2.06-2.06.94z\"/><path d=\"M17.41 7.96l-1.37-1.37c-.4-.4-.92-.59-1.43-.59-.52 0-1.04.2-1.43.59L10.3 9.45l-7.72 7.72c-.78.78-.78 2.05 0 2.83L4 21.41c.39.39.9.59 1.41.59.51 0 1.02-.2 1.41-.59l7.78-7.78 2.81-2.81c.8-.78.8-2.07 0-2.86zM5.41 20L4 18.59l7.72-7.72 1.47 1.35L5.41 20z\"/>\n",
              "  </svg>\n",
              "      </button>\n",
              "      \n",
              "  <style>\n",
              "    .colab-df-container {\n",
              "      display:flex;\n",
              "      flex-wrap:wrap;\n",
              "      gap: 12px;\n",
              "    }\n",
              "\n",
              "    .colab-df-convert {\n",
              "      background-color: #E8F0FE;\n",
              "      border: none;\n",
              "      border-radius: 50%;\n",
              "      cursor: pointer;\n",
              "      display: none;\n",
              "      fill: #1967D2;\n",
              "      height: 32px;\n",
              "      padding: 0 0 0 0;\n",
              "      width: 32px;\n",
              "    }\n",
              "\n",
              "    .colab-df-convert:hover {\n",
              "      background-color: #E2EBFA;\n",
              "      box-shadow: 0px 1px 2px rgba(60, 64, 67, 0.3), 0px 1px 3px 1px rgba(60, 64, 67, 0.15);\n",
              "      fill: #174EA6;\n",
              "    }\n",
              "\n",
              "    [theme=dark] .colab-df-convert {\n",
              "      background-color: #3B4455;\n",
              "      fill: #D2E3FC;\n",
              "    }\n",
              "\n",
              "    [theme=dark] .colab-df-convert:hover {\n",
              "      background-color: #434B5C;\n",
              "      box-shadow: 0px 1px 3px 1px rgba(0, 0, 0, 0.15);\n",
              "      filter: drop-shadow(0px 1px 2px rgba(0, 0, 0, 0.3));\n",
              "      fill: #FFFFFF;\n",
              "    }\n",
              "  </style>\n",
              "\n",
              "      <script>\n",
              "        const buttonEl =\n",
              "          document.querySelector('#df-a0f00151-eb6f-48ea-9874-8ad01c66e945 button.colab-df-convert');\n",
              "        buttonEl.style.display =\n",
              "          google.colab.kernel.accessAllowed ? 'block' : 'none';\n",
              "\n",
              "        async function convertToInteractive(key) {\n",
              "          const element = document.querySelector('#df-a0f00151-eb6f-48ea-9874-8ad01c66e945');\n",
              "          const dataTable =\n",
              "            await google.colab.kernel.invokeFunction('convertToInteractive',\n",
              "                                                     [key], {});\n",
              "          if (!dataTable) return;\n",
              "\n",
              "          const docLinkHtml = 'Like what you see? Visit the ' +\n",
              "            '<a target=\"_blank\" href=https://colab.research.google.com/notebooks/data_table.ipynb>data table notebook</a>'\n",
              "            + ' to learn more about interactive tables.';\n",
              "          element.innerHTML = '';\n",
              "          dataTable['output_type'] = 'display_data';\n",
              "          await google.colab.output.renderOutput(dataTable, element);\n",
              "          const docLink = document.createElement('div');\n",
              "          docLink.innerHTML = docLinkHtml;\n",
              "          element.appendChild(docLink);\n",
              "        }\n",
              "      </script>\n",
              "    </div>\n",
              "  </div>\n",
              "  "
            ]
          },
          "metadata": {},
          "execution_count": 20
        }
      ],
      "source": [
        "hist = pd.DataFrame(history.history)\n",
        "hist['epoch'] = history.epoch\n",
        "\n",
        "# Uzimamo poslednjih 5 vrsti\n",
        "hist.tail()"
      ]
    },
    {
      "cell_type": "markdown",
      "metadata": {
        "id": "AqsuANc11FYv"
      },
      "source": [
        "Definisati skup ograničenja koja kad se ispune, obučavanje modela će biti zaustavljeno. Na primer, ukoliko se u `k` uzastopnih epoha ne poboljša vrednost `val_mse` ima smisla zaustaviti obučavanje.\n",
        "\n",
        "Kako odrediti parametar `k`? U pitanju je sličan problem kao i kako odrediti arhitekturu mreže, optimizator i slično."
      ]
    },
    {
      "cell_type": "code",
      "execution_count": 21,
      "metadata": {
        "colab": {
          "base_uri": "https://localhost:8080/"
        },
        "id": "fdMZuhUgzMZ4",
        "outputId": "02962267-3ed5-45d8-fab3-c61af0cb4a71"
      },
      "outputs": [
        {
          "output_type": "stream",
          "name": "stdout",
          "text": [
            "Epoch 1/100\n",
            "8/8 [==============================] - 2s 98ms/step - loss: 563.6382 - mae: 22.4691 - mse: 563.6382 - val_loss: 549.0650 - val_mae: 22.0845 - val_mse: 549.0650\n",
            "Epoch 2/100\n",
            "8/8 [==============================] - 0s 20ms/step - loss: 504.4591 - mae: 21.0921 - mse: 504.4591 - val_loss: 489.6911 - val_mae: 20.6721 - val_mse: 489.6911\n",
            "Epoch 3/100\n",
            "8/8 [==============================] - 0s 21ms/step - loss: 448.8254 - mae: 19.7110 - mse: 448.8254 - val_loss: 428.6888 - val_mae: 19.1137 - val_mse: 428.6888\n",
            "Epoch 4/100\n",
            "8/8 [==============================] - 0s 11ms/step - loss: 391.8441 - mae: 18.1583 - mse: 391.8441 - val_loss: 367.0181 - val_mae: 17.3804 - val_mse: 367.0181\n",
            "Epoch 5/100\n",
            "8/8 [==============================] - 0s 9ms/step - loss: 332.3217 - mae: 16.4355 - mse: 332.3217 - val_loss: 301.8102 - val_mae: 15.4141 - val_mse: 301.8102\n",
            "Epoch 6/100\n",
            "8/8 [==============================] - 0s 18ms/step - loss: 271.5844 - mae: 14.5640 - mse: 271.5844 - val_loss: 238.1977 - val_mae: 13.4335 - val_mse: 238.1977\n",
            "Epoch 7/100\n",
            "8/8 [==============================] - 0s 12ms/step - loss: 213.2326 - mae: 12.6885 - mse: 213.2326 - val_loss: 179.0538 - val_mae: 11.5479 - val_mse: 179.0538\n",
            "Epoch 8/100\n",
            "8/8 [==============================] - 0s 18ms/step - loss: 158.3653 - mae: 10.8136 - mse: 158.3653 - val_loss: 124.9579 - val_mae: 9.5554 - val_mse: 124.9579\n",
            "Epoch 9/100\n",
            "8/8 [==============================] - 0s 14ms/step - loss: 110.1622 - mae: 8.8607 - mse: 110.1622 - val_loss: 82.3325 - val_mae: 7.6659 - val_mse: 82.3325\n",
            "Epoch 10/100\n",
            "8/8 [==============================] - 0s 21ms/step - loss: 72.0577 - mae: 7.0507 - mse: 72.0577 - val_loss: 52.7157 - val_mae: 6.1035 - val_mse: 52.7157\n",
            "Epoch 11/100\n",
            "8/8 [==============================] - 0s 15ms/step - loss: 46.1355 - mae: 5.3646 - mse: 46.1355 - val_loss: 36.9246 - val_mae: 5.0878 - val_mse: 36.9246\n",
            "Epoch 12/100\n",
            "8/8 [==============================] - 0s 12ms/step - loss: 31.0408 - mae: 4.2664 - mse: 31.0408 - val_loss: 29.2308 - val_mae: 4.3598 - val_mse: 29.2308\n",
            "Epoch 13/100\n",
            "8/8 [==============================] - 0s 16ms/step - loss: 22.8286 - mae: 3.6637 - mse: 22.8286 - val_loss: 25.5347 - val_mae: 3.9446 - val_mse: 25.5347\n",
            "Epoch 14/100\n",
            "8/8 [==============================] - 0s 13ms/step - loss: 18.3391 - mae: 3.2915 - mse: 18.3391 - val_loss: 23.0095 - val_mae: 3.5576 - val_mse: 23.0095\n",
            "Epoch 15/100\n",
            "8/8 [==============================] - 0s 22ms/step - loss: 15.7621 - mae: 3.0401 - mse: 15.7621 - val_loss: 20.0260 - val_mae: 3.3418 - val_mse: 20.0260\n",
            "Epoch 16/100\n",
            "8/8 [==============================] - 0s 12ms/step - loss: 14.1234 - mae: 2.8709 - mse: 14.1234 - val_loss: 17.3048 - val_mae: 3.1453 - val_mse: 17.3048\n",
            "Epoch 17/100\n",
            "8/8 [==============================] - 0s 12ms/step - loss: 12.9085 - mae: 2.7020 - mse: 12.9085 - val_loss: 15.4796 - val_mae: 2.9925 - val_mse: 15.4796\n",
            "Epoch 18/100\n",
            "8/8 [==============================] - 0s 11ms/step - loss: 11.8712 - mae: 2.5558 - mse: 11.8712 - val_loss: 13.8916 - val_mae: 2.8938 - val_mse: 13.8916\n",
            "Epoch 19/100\n",
            "8/8 [==============================] - 0s 18ms/step - loss: 11.0093 - mae: 2.4224 - mse: 11.0093 - val_loss: 12.5660 - val_mae: 2.7149 - val_mse: 12.5660\n",
            "Epoch 20/100\n",
            "8/8 [==============================] - 0s 13ms/step - loss: 10.6128 - mae: 2.3542 - mse: 10.6128 - val_loss: 11.8093 - val_mae: 2.6378 - val_mse: 11.8093\n",
            "Epoch 21/100\n",
            "8/8 [==============================] - 0s 14ms/step - loss: 10.0605 - mae: 2.2802 - mse: 10.0605 - val_loss: 11.2146 - val_mae: 2.5534 - val_mse: 11.2146\n",
            "Epoch 22/100\n",
            "8/8 [==============================] - 0s 14ms/step - loss: 9.5773 - mae: 2.2010 - mse: 9.5773 - val_loss: 10.5900 - val_mae: 2.5038 - val_mse: 10.5900\n",
            "Epoch 23/100\n",
            "8/8 [==============================] - 0s 17ms/step - loss: 9.2530 - mae: 2.1465 - mse: 9.2530 - val_loss: 10.2910 - val_mae: 2.4434 - val_mse: 10.2910\n",
            "Epoch 24/100\n",
            "8/8 [==============================] - 0s 26ms/step - loss: 9.0747 - mae: 2.1239 - mse: 9.0747 - val_loss: 9.9660 - val_mae: 2.4019 - val_mse: 9.9660\n",
            "Epoch 25/100\n",
            "8/8 [==============================] - 0s 14ms/step - loss: 9.3866 - mae: 2.1263 - mse: 9.3866 - val_loss: 9.6782 - val_mae: 2.3888 - val_mse: 9.6782\n",
            "Epoch 26/100\n",
            "8/8 [==============================] - 0s 17ms/step - loss: 8.6663 - mae: 2.0604 - mse: 8.6663 - val_loss: 9.7136 - val_mae: 2.4254 - val_mse: 9.7136\n",
            "Epoch 27/100\n",
            "8/8 [==============================] - 0s 18ms/step - loss: 8.6411 - mae: 2.0505 - mse: 8.6411 - val_loss: 9.4562 - val_mae: 2.3753 - val_mse: 9.4562\n",
            "Epoch 28/100\n",
            "8/8 [==============================] - 0s 16ms/step - loss: 8.5663 - mae: 2.0367 - mse: 8.5663 - val_loss: 9.5727 - val_mae: 2.3274 - val_mse: 9.5727\n",
            "Epoch 29/100\n",
            "8/8 [==============================] - 0s 22ms/step - loss: 8.5458 - mae: 2.0555 - mse: 8.5458 - val_loss: 9.2865 - val_mae: 2.3243 - val_mse: 9.2865\n",
            "Epoch 30/100\n",
            "8/8 [==============================] - 0s 10ms/step - loss: 8.2901 - mae: 2.0305 - mse: 8.2901 - val_loss: 9.3087 - val_mae: 2.3408 - val_mse: 9.3087\n",
            "Epoch 31/100\n",
            "8/8 [==============================] - 0s 12ms/step - loss: 8.1475 - mae: 1.9997 - mse: 8.1475 - val_loss: 9.3813 - val_mae: 2.4423 - val_mse: 9.3813\n",
            "Epoch 32/100\n",
            "8/8 [==============================] - 0s 19ms/step - loss: 8.1041 - mae: 2.0117 - mse: 8.1041 - val_loss: 9.1776 - val_mae: 2.3017 - val_mse: 9.1776\n",
            "Epoch 33/100\n",
            "8/8 [==============================] - 0s 10ms/step - loss: 8.0205 - mae: 2.0095 - mse: 8.0205 - val_loss: 9.0240 - val_mae: 2.3172 - val_mse: 9.0240\n",
            "Epoch 34/100\n",
            "8/8 [==============================] - 0s 21ms/step - loss: 8.0236 - mae: 1.9968 - mse: 8.0236 - val_loss: 9.2162 - val_mae: 2.2802 - val_mse: 9.2162\n",
            "Epoch 35/100\n",
            "8/8 [==============================] - 0s 14ms/step - loss: 7.7665 - mae: 1.9811 - mse: 7.7665 - val_loss: 8.8928 - val_mae: 2.3298 - val_mse: 8.8928\n",
            "Epoch 36/100\n",
            "8/8 [==============================] - 0s 9ms/step - loss: 7.7306 - mae: 1.9562 - mse: 7.7306 - val_loss: 8.9363 - val_mae: 2.2652 - val_mse: 8.9363\n",
            "Epoch 37/100\n",
            "8/8 [==============================] - 0s 9ms/step - loss: 7.7614 - mae: 1.9534 - mse: 7.7614 - val_loss: 8.9020 - val_mae: 2.3228 - val_mse: 8.9020\n",
            "Epoch 38/100\n",
            "8/8 [==============================] - 0s 10ms/step - loss: 7.7146 - mae: 1.9854 - mse: 7.7146 - val_loss: 8.8923 - val_mae: 2.2650 - val_mse: 8.8923\n",
            "Epoch 39/100\n",
            "8/8 [==============================] - 0s 10ms/step - loss: 7.5639 - mae: 1.9614 - mse: 7.5639 - val_loss: 8.9380 - val_mae: 2.3053 - val_mse: 8.9380\n",
            "Epoch 40/100\n",
            "8/8 [==============================] - 0s 11ms/step - loss: 7.5970 - mae: 1.9386 - mse: 7.5970 - val_loss: 8.8279 - val_mae: 2.2682 - val_mse: 8.8279\n",
            "Epoch 41/100\n",
            "8/8 [==============================] - 0s 31ms/step - loss: 7.4374 - mae: 1.9250 - mse: 7.4374 - val_loss: 8.8192 - val_mae: 2.2585 - val_mse: 8.8192\n",
            "Epoch 42/100\n",
            "8/8 [==============================] - 0s 17ms/step - loss: 7.3240 - mae: 1.8882 - mse: 7.3240 - val_loss: 8.6768 - val_mae: 2.2571 - val_mse: 8.6768\n",
            "Epoch 43/100\n",
            "8/8 [==============================] - 0s 16ms/step - loss: 7.3232 - mae: 1.9033 - mse: 7.3232 - val_loss: 8.7614 - val_mae: 2.2436 - val_mse: 8.7614\n",
            "Epoch 44/100\n",
            "8/8 [==============================] - 0s 17ms/step - loss: 7.1484 - mae: 1.8807 - mse: 7.1484 - val_loss: 8.7298 - val_mae: 2.3379 - val_mse: 8.7298\n",
            "Epoch 45/100\n",
            "8/8 [==============================] - 0s 13ms/step - loss: 7.2486 - mae: 1.8890 - mse: 7.2486 - val_loss: 8.6572 - val_mae: 2.2476 - val_mse: 8.6572\n",
            "Epoch 46/100\n",
            "8/8 [==============================] - 0s 14ms/step - loss: 7.2574 - mae: 1.9024 - mse: 7.2574 - val_loss: 8.6315 - val_mae: 2.2413 - val_mse: 8.6315\n",
            "Epoch 47/100\n",
            "8/8 [==============================] - 0s 20ms/step - loss: 6.9692 - mae: 1.8553 - mse: 6.9692 - val_loss: 8.6404 - val_mae: 2.2551 - val_mse: 8.6404\n",
            "Epoch 48/100\n",
            "8/8 [==============================] - 0s 13ms/step - loss: 7.1561 - mae: 1.9255 - mse: 7.1561 - val_loss: 8.6167 - val_mae: 2.2351 - val_mse: 8.6167\n",
            "Epoch 49/100\n",
            "8/8 [==============================] - 0s 13ms/step - loss: 6.9783 - mae: 1.8923 - mse: 6.9783 - val_loss: 8.4508 - val_mae: 2.2681 - val_mse: 8.4508\n",
            "Epoch 50/100\n",
            "8/8 [==============================] - 0s 15ms/step - loss: 6.9154 - mae: 1.8670 - mse: 6.9154 - val_loss: 9.0287 - val_mae: 2.2316 - val_mse: 9.0287\n",
            "Epoch 51/100\n",
            "8/8 [==============================] - 0s 16ms/step - loss: 7.0671 - mae: 1.8767 - mse: 7.0671 - val_loss: 8.5242 - val_mae: 2.2356 - val_mse: 8.5242\n",
            "Epoch 52/100\n",
            "8/8 [==============================] - 0s 12ms/step - loss: 6.9320 - mae: 1.8762 - mse: 6.9320 - val_loss: 8.6970 - val_mae: 2.2662 - val_mse: 8.6970\n",
            "Epoch 53/100\n",
            "8/8 [==============================] - 0s 14ms/step - loss: 6.8277 - mae: 1.8647 - mse: 6.8277 - val_loss: 8.5700 - val_mae: 2.2486 - val_mse: 8.5700\n",
            "Epoch 54/100\n",
            "8/8 [==============================] - 0s 9ms/step - loss: 6.8931 - mae: 1.8161 - mse: 6.8931 - val_loss: 8.6074 - val_mae: 2.2099 - val_mse: 8.6074\n",
            "Epoch 55/100\n",
            "8/8 [==============================] - 0s 9ms/step - loss: 6.7010 - mae: 1.8366 - mse: 6.7010 - val_loss: 8.7225 - val_mae: 2.2761 - val_mse: 8.7225\n",
            "Epoch 56/100\n",
            "8/8 [==============================] - 0s 13ms/step - loss: 6.8228 - mae: 1.8326 - mse: 6.8228 - val_loss: 8.3642 - val_mae: 2.2232 - val_mse: 8.3642\n",
            "Epoch 57/100\n",
            "8/8 [==============================] - 0s 23ms/step - loss: 6.6572 - mae: 1.7990 - mse: 6.6572 - val_loss: 8.3844 - val_mae: 2.2481 - val_mse: 8.3844\n",
            "Epoch 58/100\n",
            "8/8 [==============================] - 0s 14ms/step - loss: 6.9307 - mae: 1.8570 - mse: 6.9307 - val_loss: 8.3102 - val_mae: 2.2329 - val_mse: 8.3102\n",
            "Epoch 59/100\n",
            "8/8 [==============================] - 0s 13ms/step - loss: 6.5356 - mae: 1.7883 - mse: 6.5356 - val_loss: 8.5655 - val_mae: 2.2933 - val_mse: 8.5655\n",
            "Epoch 60/100\n",
            "8/8 [==============================] - 0s 11ms/step - loss: 6.7123 - mae: 1.7863 - mse: 6.7123 - val_loss: 8.4119 - val_mae: 2.2219 - val_mse: 8.4119\n",
            "Epoch 61/100\n",
            "8/8 [==============================] - 0s 14ms/step - loss: 6.8450 - mae: 1.8407 - mse: 6.8450 - val_loss: 8.3330 - val_mae: 2.2090 - val_mse: 8.3330\n",
            "Epoch 62/100\n",
            "8/8 [==============================] - 0s 20ms/step - loss: 6.6131 - mae: 1.8103 - mse: 6.6131 - val_loss: 8.4096 - val_mae: 2.2295 - val_mse: 8.4096\n",
            "Epoch 63/100\n",
            "8/8 [==============================] - 0s 20ms/step - loss: 6.6252 - mae: 1.8320 - mse: 6.6252 - val_loss: 8.5033 - val_mae: 2.2366 - val_mse: 8.5033\n",
            "Epoch 64/100\n",
            "8/8 [==============================] - 0s 16ms/step - loss: 6.6784 - mae: 1.8022 - mse: 6.6784 - val_loss: 8.5045 - val_mae: 2.1909 - val_mse: 8.5045\n",
            "Epoch 65/100\n",
            "8/8 [==============================] - 0s 18ms/step - loss: 6.5372 - mae: 1.7951 - mse: 6.5372 - val_loss: 8.3759 - val_mae: 2.2369 - val_mse: 8.3759\n",
            "Epoch 66/100\n",
            "8/8 [==============================] - 0s 27ms/step - loss: 6.4836 - mae: 1.7530 - mse: 6.4836 - val_loss: 8.8195 - val_mae: 2.2015 - val_mse: 8.8195\n",
            "Epoch 67/100\n",
            "8/8 [==============================] - 0s 12ms/step - loss: 6.5293 - mae: 1.7909 - mse: 6.5293 - val_loss: 8.4677 - val_mae: 2.2053 - val_mse: 8.4677\n",
            "Epoch 68/100\n",
            "8/8 [==============================] - 0s 15ms/step - loss: 6.4071 - mae: 1.7831 - mse: 6.4071 - val_loss: 8.4302 - val_mae: 2.1978 - val_mse: 8.4302\n"
          ]
        }
      ],
      "source": [
        "model = build_model()\n",
        "\n",
        "early_stop = keras.callbacks.EarlyStopping(monitor='val_loss', patience=10)\n",
        "\n",
        "early_history = model.fit(normed_train_data, train_labels, \n",
        "                    epochs=EPOCHS, validation_split=0.2, verbose=1, \n",
        "                    callbacks=[early_stop])"
      ]
    },
    {
      "cell_type": "code",
      "execution_count": 22,
      "metadata": {
        "colab": {
          "base_uri": "https://localhost:8080/",
          "height": 283
        },
        "id": "y8C67DpmZjIU",
        "outputId": "fd0531e9-99b2-496f-c648-ce4cba064af1"
      },
      "outputs": [
        {
          "output_type": "display_data",
          "data": {
            "text/plain": [
              "<Figure size 432x288 with 1 Axes>"
            ],
            "image/png": "[encoded data removed]"
          },
          "metadata": {
            "needs_background": "light"
          }
        }
      ],
      "source": [
        "plt.plot(early_history.epoch, early_history.history['mae'])\n",
        "plt.plot(early_history.epoch, early_history.history['val_mae'])\n",
        "plt.ylim([0, 10])\n",
        "plt.legend(['Trening MAE', 'Validacioni MAE'])\n",
        "plt.xlabel('Epohe')\n",
        "plt.ylabel('MAE [MPG]')\n",
        "plt.show()"
      ]
    },
    {
      "cell_type": "markdown",
      "metadata": {
        "id": "3St8-DmrX8P4"
      },
      "source": [
        "Graf pokazuje da je na validacionom skupu, prosečna greška oko +/- 2 MPG.\n",
        "Da li je ovo dobro ili ne, zavisi od mere i slučaja upotrebe koji zavise\n",
        "od problema do problema."
      ]
    },
    {
      "cell_type": "markdown",
      "metadata": {
        "id": "OKvwopHue1dW"
      },
      "source": [
        "### Evaluacija modela\n",
        "\n",
        "Sledeće što ćemo  uraditi je da pogledamo koliko dobro model generalizuje\n",
        "na podacima za testiranje.\n",
        "\n",
        "Ovde se stvar malko komplikuje. Treba imati u vidu da smo model do sada\n",
        "obučavali na podskupu (80%) skupa za obučavanje kako bi imali validacioni skup.\n",
        "Nema smisla baciti podatke (20% podataka za obučavanje koji su završili kao validacioni podataci), tako da ćemo ponovo\n",
        "obučiti model, ali sada nam celokupnim podacima za obučavanje, i TAJ\n",
        "model ćemo koristiti za evaluaciju na test skupu.\n",
        "\n",
        "Postavlja se pitanje koliko epoha postaviti za obučavanje? Jedan od pristupa je\n",
        "postaviti broj epoha koji je uzet prilikom ranoh zaustavljanja. U momentu\n",
        "pisanja ovih materijala, na ovom primeru je to bilo 53."
      ]
    },
    {
      "cell_type": "code",
      "execution_count": 23,
      "metadata": {
        "colab": {
          "base_uri": "https://localhost:8080/"
        },
        "id": "Mu-Bbbi-cIOR",
        "outputId": "ae0736a4-c510-4b6d-8988-9f4918379d9e"
      },
      "outputs": [
        {
          "output_type": "stream",
          "name": "stdout",
          "text": [
            "Epoch 1/53\n",
            "10/10 [==============================] - 1s 8ms/step - loss: 576.0864 - mae: 22.7719 - mse: 576.0864\n",
            "Epoch 2/53\n",
            "10/10 [==============================] - 0s 4ms/step - loss: 511.3421 - mae: 21.2431 - mse: 511.3421\n",
            "Epoch 3/53\n",
            "10/10 [==============================] - 0s 5ms/step - loss: 448.9032 - mae: 19.7082 - mse: 448.9032\n",
            "Epoch 4/53\n",
            "10/10 [==============================] - 0s 6ms/step - loss: 380.7449 - mae: 17.9366 - mse: 380.7449\n",
            "Epoch 5/53\n",
            "10/10 [==============================] - 0s 5ms/step - loss: 308.5703 - mae: 15.8656 - mse: 308.5703\n",
            "Epoch 6/53\n",
            "10/10 [==============================] - 0s 5ms/step - loss: 238.0143 - mae: 13.7171 - mse: 238.0143\n",
            "Epoch 7/53\n",
            "10/10 [==============================] - 0s 5ms/step - loss: 174.3161 - mae: 11.5476 - mse: 174.3161\n",
            "Epoch 8/53\n",
            "10/10 [==============================] - 0s 8ms/step - loss: 121.8832 - mae: 9.3593 - mse: 121.8832\n",
            "Epoch 9/53\n",
            "10/10 [==============================] - 0s 6ms/step - loss: 83.6847 - mae: 7.4086 - mse: 83.6847\n",
            "Epoch 10/53\n",
            "10/10 [==============================] - 0s 7ms/step - loss: 58.8562 - mae: 6.0311 - mse: 58.8562\n",
            "Epoch 11/53\n",
            "10/10 [==============================] - 0s 4ms/step - loss: 42.8490 - mae: 5.1392 - mse: 42.8490\n",
            "Epoch 12/53\n",
            "10/10 [==============================] - 0s 5ms/step - loss: 32.4343 - mae: 4.4924 - mse: 32.4343\n",
            "Epoch 13/53\n",
            "10/10 [==============================] - 0s 5ms/step - loss: 24.8120 - mae: 3.9324 - mse: 24.8120\n",
            "Epoch 14/53\n",
            "10/10 [==============================] - 0s 5ms/step - loss: 19.6443 - mae: 3.4342 - mse: 19.6443\n",
            "Epoch 15/53\n",
            "10/10 [==============================] - 0s 5ms/step - loss: 15.7979 - mae: 3.0481 - mse: 15.7979\n",
            "Epoch 16/53\n",
            "10/10 [==============================] - 0s 8ms/step - loss: 13.4745 - mae: 2.8415 - mse: 13.4745\n",
            "Epoch 17/53\n",
            "10/10 [==============================] - 0s 4ms/step - loss: 12.1411 - mae: 2.6687 - mse: 12.1411\n",
            "Epoch 18/53\n",
            "10/10 [==============================] - 0s 8ms/step - loss: 11.1957 - mae: 2.5531 - mse: 11.1957\n",
            "Epoch 19/53\n",
            "10/10 [==============================] - 0s 5ms/step - loss: 10.5154 - mae: 2.4186 - mse: 10.5154\n",
            "Epoch 20/53\n",
            "10/10 [==============================] - 0s 7ms/step - loss: 9.9295 - mae: 2.3615 - mse: 9.9295\n",
            "Epoch 21/53\n",
            "10/10 [==============================] - 0s 4ms/step - loss: 9.4701 - mae: 2.2919 - mse: 9.4701\n",
            "Epoch 22/53\n",
            "10/10 [==============================] - 0s 6ms/step - loss: 9.1769 - mae: 2.2411 - mse: 9.1769\n",
            "Epoch 23/53\n",
            "10/10 [==============================] - 0s 4ms/step - loss: 8.9836 - mae: 2.2016 - mse: 8.9836\n",
            "Epoch 24/53\n",
            "10/10 [==============================] - 0s 4ms/step - loss: 8.6446 - mae: 2.1711 - mse: 8.6446\n",
            "Epoch 25/53\n",
            "10/10 [==============================] - 0s 4ms/step - loss: 8.4984 - mae: 2.1413 - mse: 8.4984\n",
            "Epoch 26/53\n",
            "10/10 [==============================] - 0s 4ms/step - loss: 8.1846 - mae: 2.1291 - mse: 8.1846\n",
            "Epoch 27/53\n",
            "10/10 [==============================] - 0s 5ms/step - loss: 8.0780 - mae: 2.0741 - mse: 8.0780\n",
            "Epoch 28/53\n",
            "10/10 [==============================] - 0s 4ms/step - loss: 7.9840 - mae: 2.0522 - mse: 7.9840\n",
            "Epoch 29/53\n",
            "10/10 [==============================] - 0s 4ms/step - loss: 8.0915 - mae: 2.0755 - mse: 8.0915\n",
            "Epoch 30/53\n",
            "10/10 [==============================] - 0s 5ms/step - loss: 7.8200 - mae: 2.0318 - mse: 7.8200\n",
            "Epoch 31/53\n",
            "10/10 [==============================] - 0s 5ms/step - loss: 7.7584 - mae: 2.0128 - mse: 7.7584\n",
            "Epoch 32/53\n",
            "10/10 [==============================] - 0s 6ms/step - loss: 7.6390 - mae: 2.0207 - mse: 7.6390\n",
            "Epoch 33/53\n",
            "10/10 [==============================] - 0s 5ms/step - loss: 7.6534 - mae: 2.0078 - mse: 7.6534\n",
            "Epoch 34/53\n",
            "10/10 [==============================] - 0s 6ms/step - loss: 7.3667 - mae: 1.9793 - mse: 7.3667\n",
            "Epoch 35/53\n",
            "10/10 [==============================] - 0s 4ms/step - loss: 7.4274 - mae: 1.9965 - mse: 7.4274\n",
            "Epoch 36/53\n",
            "10/10 [==============================] - 0s 4ms/step - loss: 7.3159 - mae: 1.9708 - mse: 7.3159\n",
            "Epoch 37/53\n",
            "10/10 [==============================] - 0s 6ms/step - loss: 7.2972 - mae: 1.9788 - mse: 7.2972\n",
            "Epoch 38/53\n",
            "10/10 [==============================] - 0s 6ms/step - loss: 7.3708 - mae: 1.9684 - mse: 7.3708\n",
            "Epoch 39/53\n",
            "10/10 [==============================] - 0s 8ms/step - loss: 7.0006 - mae: 1.9205 - mse: 7.0006\n",
            "Epoch 40/53\n",
            "10/10 [==============================] - 0s 5ms/step - loss: 7.1452 - mae: 1.9451 - mse: 7.1452\n",
            "Epoch 41/53\n",
            "10/10 [==============================] - 0s 4ms/step - loss: 7.0442 - mae: 1.9152 - mse: 7.0442\n",
            "Epoch 42/53\n",
            "10/10 [==============================] - 0s 5ms/step - loss: 6.9575 - mae: 1.9164 - mse: 6.9575\n",
            "Epoch 43/53\n",
            "10/10 [==============================] - 0s 6ms/step - loss: 6.9583 - mae: 1.9081 - mse: 6.9583\n",
            "Epoch 44/53\n",
            "10/10 [==============================] - 0s 5ms/step - loss: 6.9565 - mae: 1.9129 - mse: 6.9565\n",
            "Epoch 45/53\n",
            "10/10 [==============================] - 0s 7ms/step - loss: 6.7845 - mae: 1.8846 - mse: 6.7845\n",
            "Epoch 46/53\n",
            "10/10 [==============================] - 0s 5ms/step - loss: 6.8220 - mae: 1.8754 - mse: 6.8220\n",
            "Epoch 47/53\n",
            "10/10 [==============================] - 0s 5ms/step - loss: 6.6041 - mae: 1.8656 - mse: 6.6041\n",
            "Epoch 48/53\n",
            "10/10 [==============================] - 0s 5ms/step - loss: 6.7899 - mae: 1.8543 - mse: 6.7899\n",
            "Epoch 49/53\n",
            "10/10 [==============================] - 0s 5ms/step - loss: 6.7532 - mae: 1.8860 - mse: 6.7532\n",
            "Epoch 50/53\n",
            "10/10 [==============================] - 0s 5ms/step - loss: 6.7322 - mae: 1.8823 - mse: 6.7322\n",
            "Epoch 51/53\n",
            "10/10 [==============================] - 0s 8ms/step - loss: 6.6575 - mae: 1.8579 - mse: 6.6575\n",
            "Epoch 52/53\n",
            "10/10 [==============================] - 0s 6ms/step - loss: 6.6990 - mae: 1.8527 - mse: 6.6990\n",
            "Epoch 53/53\n",
            "10/10 [==============================] - 0s 4ms/step - loss: 6.5297 - mae: 1.8268 - mse: 6.5297\n"
          ]
        }
      ],
      "source": [
        "model = build_model()\n",
        "\n",
        "early_stop_epochs = 53\n",
        "\n",
        "final_history = model.fit(normed_train_data, train_labels, \n",
        "                    epochs=early_stop_epochs, verbose=1)"
      ]
    },
    {
      "cell_type": "markdown",
      "metadata": {
        "id": "76RVqUtdcovq"
      },
      "source": [
        "Konačno, možemo pogledati kako se naš model ponaša na skupu za testiranje."
      ]
    },
    {
      "cell_type": "code",
      "execution_count": 24,
      "metadata": {
        "colab": {
          "base_uri": "https://localhost:8080/"
        },
        "id": "jl_yNr5n1kms",
        "outputId": "bd277b7e-c8d8-4c01-ec8b-54aed4d7af67"
      },
      "outputs": [
        {
          "output_type": "stream",
          "name": "stdout",
          "text": [
            "3/3 - 0s - loss: 6.3974 - mae: 1.9888 - mse: 6.3974 - 256ms/epoch - 85ms/step\n",
            "Testing set Mean Abs Error:  1.99 MPG\n"
          ]
        }
      ],
      "source": [
        "loss, mae, mse = model.evaluate(normed_test_data, test_labels, verbose=2)\n",
        "\n",
        "print(\"Testing set Mean Abs Error: {:5.2f} MPG\".format(mae))"
      ]
    },
    {
      "cell_type": "markdown",
      "metadata": {
        "id": "3DhFbCnYcswV"
      },
      "source": [
        "Dobijamo 1.83 MPG srednja apsolutna greška."
      ]
    }
  ],
  "metadata": {
    "accelerator": "GPU",
    "colab": {
      "collapsed_sections": [],
      "name": "keras_auto-mpg.ipynb",
      "provenance": [],
      "toc_visible": true
    },
    "kernelspec": {
      "display_name": "Python 3",
      "language": "python",
      "name": "python3"
    },
    "language_info": {
      "codemirror_mode": {
        "name": "ipython",
        "version": 3
      },
      "file_extension": ".py",
      "mimetype": "text/x-python",
      "name": "python",
      "nbconvert_exporter": "python",
      "pygments_lexer": "ipython3",
      "version": "3.8.5"
    }
  },
  "nbformat": 4,
  "nbformat_minor": 0
}