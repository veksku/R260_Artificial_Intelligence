{
  "cells": [
    {
      "cell_type": "code",
      "execution_count": 1,
      "metadata": {
        "id": "C4Tp8Mr7VAIb"
      },
      "outputs": [],
      "source": [
        "import numpy as np\n",
        "import matplotlib.pyplot as plt\n",
        "import pandas as pd\n",
        "from sklearn import model_selection\n",
        "\n",
        "from keras.layers import Dense\n",
        "from keras.models import Sequential\n",
        "from keras.utils.np_utils import to_categorical\n",
        "\n",
        "from sklearn.datasets import load_boston\n",
        "\n",
        "%matplotlib inline"
      ]
    },
    {
      "cell_type": "code",
      "execution_count": 2,
      "metadata": {
        "id": "6_8dVgAKVAIe"
      },
      "outputs": [],
      "source": [
        "attributes = ['CRIM', 'ZN', 'INDUS', 'CHAS', 'NOX', 'RM', 'AGE', 'DIS', 'RAD', 'TAX', 'PTRATIO', 'B', 'LSTAT']\n",
        "target_variable = ['MEDV']"
      ]
    },
    {
      "cell_type": "markdown",
      "metadata": {
        "id": "enMKyLtCVAIe"
      },
      "source": [
        "a) Učitati podatke iz datoteke `boston.csv` za problem regresije. Prikazati referentne statistike za atribute\n",
        "koristeći `pandas` metod `describe`."
      ]
    },
    {
      "cell_type": "code",
      "execution_count": 5,
      "metadata": {
        "id": "1RG_Ag-SVAIg"
      },
      "outputs": [],
      "source": [
        "df = pd.read_csv(\"boston.csv\")"
      ]
    },
    {
      "cell_type": "markdown",
      "metadata": {
        "id": "8cW2ORFyVAIg"
      },
      "source": [
        "b) Učitane podatke razdvojiti u dva podskupa, $X$ gde se nalaze svi atributi bez ciljne promenljive `MEDV`, i $y$ gde se\n",
        "nalazi ciljna promenljiva `MEDV`. Dozvoljeno je koristiti sve dostupne bibliotečke funkcije."
      ]
    },
    {
      "cell_type": "code",
      "execution_count": 6,
      "metadata": {
        "id": "KIYrjb9zVAIh"
      },
      "outputs": [],
      "source": [
        "x = df.drop(axis=1, columns=target_variable)\n",
        "y = df[target_variable]"
      ]
    },
    {
      "cell_type": "markdown",
      "metadata": {
        "id": "rwyQ7VlnVAIh"
      },
      "source": [
        "c) Podeliti podatke na skup za obučavanje i validaciju u razmeri 3:1. "
      ]
    },
    {
      "cell_type": "code",
      "execution_count": 7,
      "metadata": {
        "colab": {
          "base_uri": "https://localhost:8080/",
          "height": 206
        },
        "id": "Wjt8yA7TVAIi",
        "outputId": "de304505-75d5-4bb1-89d0-5fa2fe791f79"
      },
      "outputs": [
        {
          "output_type": "execute_result",
          "data": {
            "text/plain": [
              "        CRIM    ZN  INDUS  CHAS     NOX     RM   AGE     DIS  RAD    TAX  \\\n",
              "182  0.09103   0.0   2.46   0.0  0.4880  7.155  92.2  2.7006  3.0  193.0   \n",
              "155  3.53501   0.0  19.58   1.0  0.8710  6.152  82.6  1.7455  5.0  403.0   \n",
              "280  0.03578  20.0   3.33   0.0  0.4429  7.820  64.5  4.6947  5.0  216.0   \n",
              "126  0.38735   0.0  25.65   0.0  0.5810  5.613  95.6  1.7572  2.0  188.0   \n",
              "329  0.06724   0.0   3.24   0.0  0.4600  6.333  17.2  5.2146  4.0  430.0   \n",
              "\n",
              "     PTRATIO       B  LSTAT  \n",
              "182     17.8  394.12   4.82  \n",
              "155     14.7   88.01  15.02  \n",
              "280     14.9  387.31   3.76  \n",
              "126     19.1  359.29  27.26  \n",
              "329     16.9  375.21   7.34  "
            ],
            "text/html": [
              "\n",
              "  <div id=\"df-61f2c1b1-3938-4fd3-a899-c8f723e7ed64\">\n",
              "    <div class=\"colab-df-container\">\n",
              "      <div>\n",
              "<style scoped>\n",
              "    .dataframe tbody tr th:only-of-type {\n",
              "        vertical-align: middle;\n",
              "    }\n",
              "\n",
              "    .dataframe tbody tr th {\n",
              "        vertical-align: top;\n",
              "    }\n",
              "\n",
              "    .dataframe thead th {\n",
              "        text-align: right;\n",
              "    }\n",
              "</style>\n",
              "<table border=\"1\" class=\"dataframe\">\n",
              "  <thead>\n",
              "    <tr style=\"text-align: right;\">\n",
              "      <th></th>\n",
              "      <th>CRIM</th>\n",
              "      <th>ZN</th>\n",
              "      <th>INDUS</th>\n",
              "      <th>CHAS</th>\n",
              "      <th>NOX</th>\n",
              "      <th>RM</th>\n",
              "      <th>AGE</th>\n",
              "      <th>DIS</th>\n",
              "      <th>RAD</th>\n",
              "      <th>TAX</th>\n",
              "      <th>PTRATIO</th>\n",
              "      <th>B</th>\n",
              "      <th>LSTAT</th>\n",
              "    </tr>\n",
              "  </thead>\n",
              "  <tbody>\n",
              "    <tr>\n",
              "      <th>182</th>\n",
              "      <td>0.09103</td>\n",
              "      <td>0.0</td>\n",
              "      <td>2.46</td>\n",
              "      <td>0.0</td>\n",
              "      <td>0.4880</td>\n",
              "      <td>7.155</td>\n",
              "      <td>92.2</td>\n",
              "      <td>2.7006</td>\n",
              "      <td>3.0</td>\n",
              "      <td>193.0</td>\n",
              "      <td>17.8</td>\n",
              "      <td>394.12</td>\n",
              "      <td>4.82</td>\n",
              "    </tr>\n",
              "    <tr>\n",
              "      <th>155</th>\n",
              "      <td>3.53501</td>\n",
              "      <td>0.0</td>\n",
              "      <td>19.58</td>\n",
              "      <td>1.0</td>\n",
              "      <td>0.8710</td>\n",
              "      <td>6.152</td>\n",
              "      <td>82.6</td>\n",
              "      <td>1.7455</td>\n",
              "      <td>5.0</td>\n",
              "      <td>403.0</td>\n",
              "      <td>14.7</td>\n",
              "      <td>88.01</td>\n",
              "      <td>15.02</td>\n",
              "    </tr>\n",
              "    <tr>\n",
              "      <th>280</th>\n",
              "      <td>0.03578</td>\n",
              "      <td>20.0</td>\n",
              "      <td>3.33</td>\n",
              "      <td>0.0</td>\n",
              "      <td>0.4429</td>\n",
              "      <td>7.820</td>\n",
              "      <td>64.5</td>\n",
              "      <td>4.6947</td>\n",
              "      <td>5.0</td>\n",
              "      <td>216.0</td>\n",
              "      <td>14.9</td>\n",
              "      <td>387.31</td>\n",
              "      <td>3.76</td>\n",
              "    </tr>\n",
              "    <tr>\n",
              "      <th>126</th>\n",
              "      <td>0.38735</td>\n",
              "      <td>0.0</td>\n",
              "      <td>25.65</td>\n",
              "      <td>0.0</td>\n",
              "      <td>0.5810</td>\n",
              "      <td>5.613</td>\n",
              "      <td>95.6</td>\n",
              "      <td>1.7572</td>\n",
              "      <td>2.0</td>\n",
              "      <td>188.0</td>\n",
              "      <td>19.1</td>\n",
              "      <td>359.29</td>\n",
              "      <td>27.26</td>\n",
              "    </tr>\n",
              "    <tr>\n",
              "      <th>329</th>\n",
              "      <td>0.06724</td>\n",
              "      <td>0.0</td>\n",
              "      <td>3.24</td>\n",
              "      <td>0.0</td>\n",
              "      <td>0.4600</td>\n",
              "      <td>6.333</td>\n",
              "      <td>17.2</td>\n",
              "      <td>5.2146</td>\n",
              "      <td>4.0</td>\n",
              "      <td>430.0</td>\n",
              "      <td>16.9</td>\n",
              "      <td>375.21</td>\n",
              "      <td>7.34</td>\n",
              "    </tr>\n",
              "  </tbody>\n",
              "</table>\n",
              "</div>\n",
              "      <button class=\"colab-df-convert\" onclick=\"convertToInteractive('df-61f2c1b1-3938-4fd3-a899-c8f723e7ed64')\"\n",
              "              title=\"Convert this dataframe to an interactive table.\"\n",
              "              style=\"display:none;\">\n",
              "        \n",
              "  <svg xmlns=\"http://www.w3.org/2000/svg\" height=\"24px\"viewBox=\"0 0 24 24\"\n",
              "       width=\"24px\">\n",
              "    <path d=\"M0 0h24v24H0V0z\" fill=\"none\"/>\n",
              "    <path d=\"M18.56 5.44l.94 2.06.94-2.06 2.06-.94-2.06-.94-.94-2.06-.94 2.06-2.06.94zm-11 1L8.5 8.5l.94-2.06 2.06-.94-2.06-.94L8.5 2.5l-.94 2.06-2.06.94zm10 10l.94 2.06.94-2.06 2.06-.94-2.06-.94-.94-2.06-.94 2.06-2.06.94z\"/><path d=\"M17.41 7.96l-1.37-1.37c-.4-.4-.92-.59-1.43-.59-.52 0-1.04.2-1.43.59L10.3 9.45l-7.72 7.72c-.78.78-.78 2.05 0 2.83L4 21.41c.39.39.9.59 1.41.59.51 0 1.02-.2 1.41-.59l7.78-7.78 2.81-2.81c.8-.78.8-2.07 0-2.86zM5.41 20L4 18.59l7.72-7.72 1.47 1.35L5.41 20z\"/>\n",
              "  </svg>\n",
              "      </button>\n",
              "      \n",
              "  <style>\n",
              "    .colab-df-container {\n",
              "      display:flex;\n",
              "      flex-wrap:wrap;\n",
              "      gap: 12px;\n",
              "    }\n",
              "\n",
              "    .colab-df-convert {\n",
              "      background-color: #E8F0FE;\n",
              "      border: none;\n",
              "      border-radius: 50%;\n",
              "      cursor: pointer;\n",
              "      display: none;\n",
              "      fill: #1967D2;\n",
              "      height: 32px;\n",
              "      padding: 0 0 0 0;\n",
              "      width: 32px;\n",
              "    }\n",
              "\n",
              "    .colab-df-convert:hover {\n",
              "      background-color: #E2EBFA;\n",
              "      box-shadow: 0px 1px 2px rgba(60, 64, 67, 0.3), 0px 1px 3px 1px rgba(60, 64, 67, 0.15);\n",
              "      fill: #174EA6;\n",
              "    }\n",
              "\n",
              "    [theme=dark] .colab-df-convert {\n",
              "      background-color: #3B4455;\n",
              "      fill: #D2E3FC;\n",
              "    }\n",
              "\n",
              "    [theme=dark] .colab-df-convert:hover {\n",
              "      background-color: #434B5C;\n",
              "      box-shadow: 0px 1px 3px 1px rgba(0, 0, 0, 0.15);\n",
              "      filter: drop-shadow(0px 1px 2px rgba(0, 0, 0, 0.3));\n",
              "      fill: #FFFFFF;\n",
              "    }\n",
              "  </style>\n",
              "\n",
              "      <script>\n",
              "        const buttonEl =\n",
              "          document.querySelector('#df-61f2c1b1-3938-4fd3-a899-c8f723e7ed64 button.colab-df-convert');\n",
              "        buttonEl.style.display =\n",
              "          google.colab.kernel.accessAllowed ? 'block' : 'none';\n",
              "\n",
              "        async function convertToInteractive(key) {\n",
              "          const element = document.querySelector('#df-61f2c1b1-3938-4fd3-a899-c8f723e7ed64');\n",
              "          const dataTable =\n",
              "            await google.colab.kernel.invokeFunction('convertToInteractive',\n",
              "                                                     [key], {});\n",
              "          if (!dataTable) return;\n",
              "\n",
              "          const docLinkHtml = 'Like what you see? Visit the ' +\n",
              "            '<a target=\"_blank\" href=https://colab.research.google.com/notebooks/data_table.ipynb>data table notebook</a>'\n",
              "            + ' to learn more about interactive tables.';\n",
              "          element.innerHTML = '';\n",
              "          dataTable['output_type'] = 'display_data';\n",
              "          await google.colab.output.renderOutput(dataTable, element);\n",
              "          const docLink = document.createElement('div');\n",
              "          docLink.innerHTML = docLinkHtml;\n",
              "          element.appendChild(docLink);\n",
              "        }\n",
              "      </script>\n",
              "    </div>\n",
              "  </div>\n",
              "  "
            ]
          },
          "metadata": {},
          "execution_count": 7
        }
      ],
      "source": [
        "x_train, x_test, y_train, y_test = model_selection.train_test_split(x,y, train_size=0.75, random_state=42)\n",
        "x_train.head()"
      ]
    },
    {
      "cell_type": "markdown",
      "metadata": {
        "id": "FzdFx9SwVAIi"
      },
      "source": [
        "d) Izvršiti standardizaciju podataka."
      ]
    },
    {
      "cell_type": "code",
      "execution_count": 8,
      "metadata": {
        "id": "4xryt5ftVAIi"
      },
      "outputs": [],
      "source": [
        "x_train = (x_train - x_train.mean()) / x_train.std()\n",
        "x_test = (x_test - x_test.mean()) / x_test.std()\n",
        "y_train = (y_train - y_train.mean()) / y_train.std()\n",
        "y_test = (y_test - y_test.mean()) / y_test.std()"
      ]
    },
    {
      "cell_type": "markdown",
      "metadata": {
        "id": "D3ZnR5IcVAIi"
      },
      "source": [
        "e) Napraviti potpuno povezano neuronsku mrežu koja ima jedan skriveni sloj sa 32 neurona. Skrivenom sloju postaviti `ReLU` aktivaciju. Obratiti pažnju na dimenzije ulaza i izlaza neuronske mreže."
      ]
    },
    {
      "cell_type": "code",
      "execution_count": 9,
      "metadata": {
        "id": "rmY4VtmKVAIj"
      },
      "outputs": [],
      "source": [
        "model = Sequential([\n",
        "                    Dense(32, activation='relu', input_dim=x_train.shape[1]),\n",
        "                    Dense(1)\n",
        "])"
      ]
    },
    {
      "cell_type": "markdown",
      "metadata": {
        "id": "rxYO4CLcVAIj"
      },
      "source": [
        "f) Izvršiti obučavanje prethodno definisane mreže na 10 epoha sa veličinom podskupa 32. Kao grešku koristiti srednje-kvadratnu grešku, ostale parametre odabrati proizvoljno. Pratiti i srednju-apsolutnu grešku. Kao podatke za validaciju postaviti podatke iz validacionog skupa."
      ]
    },
    {
      "cell_type": "code",
      "execution_count": 10,
      "metadata": {
        "colab": {
          "base_uri": "https://localhost:8080/"
        },
        "id": "ZCerLd2OVAIj",
        "outputId": "f685e94d-89fb-4555-d3de-4867bbe339b2"
      },
      "outputs": [
        {
          "output_type": "stream",
          "name": "stdout",
          "text": [
            "Epoch 1/10\n",
            "12/12 [==============================] - 1s 22ms/step - loss: 0.7231 - mae: 0.7231 - mse: 1.0820 - val_loss: 0.6246 - val_mae: 0.6246 - val_mse: 0.7857\n",
            "Epoch 2/10\n",
            "12/12 [==============================] - 0s 4ms/step - loss: 0.6519 - mae: 0.6519 - mse: 0.9083 - val_loss: 0.5662 - val_mae: 0.5662 - val_mse: 0.6705\n",
            "Epoch 3/10\n",
            "12/12 [==============================] - 0s 4ms/step - loss: 0.5907 - mae: 0.5907 - mse: 0.7645 - val_loss: 0.5188 - val_mae: 0.5188 - val_mse: 0.5799\n",
            "Epoch 4/10\n",
            "12/12 [==============================] - 0s 7ms/step - loss: 0.5332 - mae: 0.5332 - mse: 0.6517 - val_loss: 0.4773 - val_mae: 0.4773 - val_mse: 0.5033\n",
            "Epoch 5/10\n",
            "12/12 [==============================] - 0s 5ms/step - loss: 0.4859 - mae: 0.4859 - mse: 0.5595 - val_loss: 0.4442 - val_mae: 0.4442 - val_mse: 0.4472\n",
            "Epoch 6/10\n",
            "12/12 [==============================] - 0s 5ms/step - loss: 0.4461 - mae: 0.4461 - mse: 0.4911 - val_loss: 0.4203 - val_mae: 0.4203 - val_mse: 0.4113\n",
            "Epoch 7/10\n",
            "12/12 [==============================] - 0s 5ms/step - loss: 0.4128 - mae: 0.4128 - mse: 0.4303 - val_loss: 0.3943 - val_mae: 0.3943 - val_mse: 0.3720\n",
            "Epoch 8/10\n",
            "12/12 [==============================] - 0s 5ms/step - loss: 0.3880 - mae: 0.3880 - mse: 0.3817 - val_loss: 0.3699 - val_mae: 0.3699 - val_mse: 0.3363\n",
            "Epoch 9/10\n",
            "12/12 [==============================] - 0s 5ms/step - loss: 0.3660 - mae: 0.3660 - mse: 0.3438 - val_loss: 0.3543 - val_mae: 0.3543 - val_mse: 0.3152\n",
            "Epoch 10/10\n",
            "12/12 [==============================] - 0s 4ms/step - loss: 0.3446 - mae: 0.3446 - mse: 0.3112 - val_loss: 0.3442 - val_mae: 0.3442 - val_mse: 0.3037\n"
          ]
        }
      ],
      "source": [
        "model.compile(optimizer='adam',\n",
        "              loss='mae',\n",
        "              metrics=['mae','mse']              \n",
        ")\n",
        "\n",
        "history = model.fit(x_train, y_train, epochs=10, batch_size=32, validation_data=(x_test,y_test))"
      ]
    },
    {
      "cell_type": "markdown",
      "metadata": {
        "id": "VWWK65wBVAIk"
      },
      "source": [
        "g) Nacrtati na istoj slici kako se menjala srednja-apsolutna greška kroz epohe na skupovima za obučavanje i validaciju. Označiti u legendi šta označava koja linija."
      ]
    },
    {
      "cell_type": "code",
      "execution_count": 11,
      "metadata": {
        "colab": {
          "base_uri": "https://localhost:8080/",
          "height": 265
        },
        "id": "r22T0qQhVAIk",
        "outputId": "a3c45206-9a7e-4083-9bce-3e14cabfa369"
      },
      "outputs": [
        {
          "output_type": "display_data",
          "data": {
            "text/plain": [
              "<Figure size 432x288 with 1 Axes>"
            ],
            "image/png": "[encoded data removed]"
          },
          "metadata": {
            "needs_background": "light"
          }
        }
      ],
      "source": [
        "plt.plot(history.epoch, history.history['mse'])\n",
        "plt.plot(history.epoch, history.history['val_mse'])\n",
        "plt.legend(['Trening MSE', 'Validacioni MSE'])\n",
        "plt.show()"
      ]
    }
  ],
  "metadata": {
    "kernelspec": {
      "display_name": "Python 3",
      "language": "python",
      "name": "python3"
    },
    "language_info": {
      "codemirror_mode": {
        "name": "ipython",
        "version": 3
      },
      "file_extension": ".py",
      "mimetype": "text/x-python",
      "name": "python",
      "nbconvert_exporter": "python",
      "pygments_lexer": "ipython3",
      "version": "3.8.10"
    },
    "colab": {
      "name": "boston.ipynb",
      "provenance": []
    }
  },
  "nbformat": 4,
  "nbformat_minor": 0
}